{
 "cells": [
  {
   "cell_type": "markdown",
   "metadata": {},
   "source": [
    "import sys\n",
    "sys.path.append(\"/Users/tamara/Documents/Projects/movie-chatbot\")"
   ]
  },
  {
   "cell_type": "code",
   "execution_count": 2,
   "metadata": {},
   "outputs": [],
   "source": [
    "import pandas as pd\n",
    "from pathlib import Path"
   ]
  },
  {
   "cell_type": "markdown",
   "metadata": {},
   "source": [
    "# Movies Titles"
   ]
  },
  {
   "cell_type": "code",
   "execution_count": 3,
   "metadata": {},
   "outputs": [],
   "source": [
    "import polars as pl\n",
    "\n",
    "path = Path(\"/Users/tamara/Documents/Projects/movie-chatbot/data/raw\")\n",
    "\n",
    "movies = pl.read_csv(path / \"movies_context_*.csv\").drop(\"\")"
   ]
  },
  {
   "cell_type": "code",
   "execution_count": 4,
   "metadata": {},
   "outputs": [
    {
     "data": {
      "text/plain": [
       "['Title',\n",
       " 'Release date',\n",
       " 'Genre',\n",
       " 'Runtime',\n",
       " 'Language',\n",
       " 'Link',\n",
       " 'parse_ts',\n",
       " 'TitleId',\n",
       " 'SourceYear']"
      ]
     },
     "execution_count": 4,
     "metadata": {},
     "output_type": "execute_result"
    }
   ],
   "source": [
    "movies.columns"
   ]
  },
  {
   "cell_type": "code",
   "execution_count": 5,
   "metadata": {},
   "outputs": [
    {
     "data": {
      "text/plain": [
       "(610, 9)"
      ]
     },
     "execution_count": 5,
     "metadata": {},
     "output_type": "execute_result"
    }
   ],
   "source": [
    "movies.shape"
   ]
  },
  {
   "cell_type": "code",
   "execution_count": 6,
   "metadata": {},
   "outputs": [],
   "source": [
    "def fix_shifted_data(movies: pl.DataFrame) -> pl.DataFrame:\n",
    "    is_shifted = pl.col(\"Release date\").str.replace(r'(\\[\\d+\\])+', '').str.strip_chars().str.strptime(dtype=pl.Datetime, format='%B %d, %Y', strict=False).is_null()\n",
    "    shifted_data = movies.filter(is_shifted).to_pandas()\n",
    "    not_shifted_data = movies.filter(~is_shifted).to_pandas()\n",
    "\n",
    "    shifted_data.iloc[:, 2:-3] = shifted_data.iloc[:, 1:-4]\n",
    "    shifted_data.iloc[:, 1] = None\n",
    "\n",
    "    return pl.from_pandas(pd.concat([\n",
    "        shifted_data,\n",
    "        not_shifted_data\n",
    "    ]))\n"
   ]
  },
  {
   "cell_type": "code",
   "execution_count": 34,
   "metadata": {},
   "outputs": [],
   "source": [
    "runtime_pattern = \"(?:(\\d+)\\s?h)?(?:\\s?(\\d+)\\s?min)?\"\n",
    "\n",
    "movies_clean = fix_shifted_data(\n",
    "    movies.filter(pl.col(\"Title\") != \"Awaiting release\")\n",
    ").with_columns(\n",
    "    # pl.col(\"Title\").alias(\"title\"),\n",
    "    # pl.col(\"Title\").alias(\"title\"),\n",
    "    \n",
    "    pl.col(\"Release date\").str.replace(r'(\\[\\d+\\])+', '').str.strip_chars().str.strptime(dtype=pl.Datetime, format='%B %d, %Y', strict=False).alias(\"release_date\"),\n",
    "    pl.col(\"parse_ts\").str.to_datetime().alias(\"parse_ts\"),\n",
    "    pl.col(\"SourceYear\").str.replace(\"since_\", \"\").cast(pl.Int32).alias(\"year\"),\n",
    "    pl.col('Title').str.replace(r'(\\[\\d+\\])+', '').str.strip_chars(),\n",
    "    (pl.col(\"Runtime\").str.extract_groups(runtime_pattern).struct[\"1\"].cast(pl.Int32) * 60 +\n",
    "    pl.col(\"Runtime\").str.extract_groups(runtime_pattern).struct[\"2\"].cast(pl.Int32).fill_null(0)).alias(\"runtime_min\"),\n",
    ").sort([\"year\", \"TitleId\"]).with_columns(\n",
    "    pl.col(\"release_date\").forward_fill()\n",
    ").with_columns(\n",
    "    (pl.col('Title') + pl.lit(\" is a \") + pl.col('Genre') + pl.lit(\" Netflix movie in \") + pl.col('Language') +\n",
    "      + pl.lit(\" language that was released on \") + pl.col('release_date').dt.strftime(\"%Y-%m-%d\")).alias('text'),\n",
    "    pl.col(\"runtime_min\").is_null().alias(\"is_runtime_null\"),\n",
    "    pl.col(\"runtime_min\").fill_null(pl.median(\"runtime_min\")),\n",
    ")#.select([\"Title\", \"Genre\", \"Language\", \"SourceYear\", \"TitleId\", \"year\", \"release_date\", \"runtime_min\", \"text\", \"parse_ts\"])"
   ]
  },
  {
   "cell_type": "code",
   "execution_count": 35,
   "metadata": {},
   "outputs": [
    {
     "data": {
      "text/html": [
       "<div><style>\n",
       ".dataframe > thead > tr,\n",
       ".dataframe > tbody > tr {\n",
       "  text-align: right;\n",
       "  white-space: pre-wrap;\n",
       "}\n",
       "</style>\n",
       "<small>shape: (609, 14)</small><table border=\"1\" class=\"dataframe\"><thead><tr><th>Title</th><th>Release date</th><th>Genre</th><th>Runtime</th><th>Language</th><th>Link</th><th>parse_ts</th><th>TitleId</th><th>SourceYear</th><th>release_date</th><th>year</th><th>runtime_min</th><th>text</th><th>is_runtime_null</th></tr><tr><td>str</td><td>str</td><td>str</td><td>str</td><td>str</td><td>str</td><td>datetime[μs]</td><td>i64</td><td>str</td><td>datetime[μs]</td><td>i32</td><td>f64</td><td>str</td><td>bool</td></tr></thead><tbody><tr><td>&quot;What Happened to Mr. Cha?&quot;</td><td>&quot;January 1, 2021&quot;</td><td>&quot;Comedy&quot;</td><td>&quot;1 h 42 min&quot;</td><td>&quot;Korean&quot;</td><td>&quot;/wiki/What_Happened_to_Mr._Cha…</td><td>2024-10-14 00:00:00</td><td>0</td><td>&quot;2021&quot;</td><td>2021-01-01 00:00:00</td><td>2021</td><td>102.0</td><td>&quot;What Happened to Mr. Cha? is a…</td><td>false</td></tr><tr><td>&quot;Pieces of a Woman&quot;</td><td>&quot;January 7, 2021&quot;</td><td>&quot;Drama&quot;</td><td>&quot;2 h 6 min&quot;</td><td>&quot;English&quot;</td><td>&quot;/wiki/Pieces_of_a_Woman&quot;</td><td>2024-10-14 00:00:00</td><td>1</td><td>&quot;2021&quot;</td><td>2021-01-07 00:00:00</td><td>2021</td><td>126.0</td><td>&quot;Pieces of a Woman is a Drama N…</td><td>false</td></tr><tr><td>&quot;Stuck Apart&quot;</td><td>&quot;January 8, 2021&quot;</td><td>&quot;Drama&quot;</td><td>&quot;1 h 36 min&quot;</td><td>&quot;Turkish&quot;</td><td>&quot;/wiki/Stuck_Apart&quot;</td><td>2024-10-14 00:00:00</td><td>2</td><td>&quot;2021&quot;</td><td>2021-01-08 00:00:00</td><td>2021</td><td>96.0</td><td>&quot;Stuck Apart is a Drama Netflix…</td><td>false</td></tr><tr><td>&quot;The Heartbreak Club&quot;</td><td>&quot;January 14, 2021&quot;</td><td>&quot;Comedy drama&quot;</td><td>&quot;1 h 41 min&quot;</td><td>&quot;Indonesian&quot;</td><td>&quot;/wiki/The_Heartbreak_Club&quot;</td><td>2024-10-14 00:00:00</td><td>3</td><td>&quot;2021&quot;</td><td>2021-01-14 00:00:00</td><td>2021</td><td>101.0</td><td>&quot;The Heartbreak Club is a Comed…</td><td>false</td></tr><tr><td>&quot;Double Dad&quot;</td><td>&quot;January 15, 2021&quot;</td><td>&quot;Comedy drama&quot;</td><td>&quot;1 h 45 min&quot;</td><td>&quot;Portuguese&quot;</td><td>&quot;/wiki/Double_Dad&quot;</td><td>2024-10-14 00:00:00</td><td>4</td><td>&quot;2021&quot;</td><td>2021-01-15 00:00:00</td><td>2021</td><td>105.0</td><td>&quot;Double Dad is a Comedy drama N…</td><td>false</td></tr><tr><td>&hellip;</td><td>&hellip;</td><td>&hellip;</td><td>&hellip;</td><td>&hellip;</td><td>&hellip;</td><td>&hellip;</td><td>&hellip;</td><td>&hellip;</td><td>&hellip;</td><td>&hellip;</td><td>&hellip;</td><td>&hellip;</td><td>&hellip;</td></tr><tr><td>&quot;That Christmas&quot;</td><td>&quot;December 4, 2024[21][17]&quot;</td><td>&quot;CG animation&quot;</td><td>&quot;1 h 32 min&quot;</td><td>&quot;English&quot;</td><td>&quot;/wiki/That_Christmas&quot;</td><td>2024-10-14 00:00:00</td><td>124</td><td>&quot;since_2024&quot;</td><td>2024-12-04 00:00:00</td><td>2024</td><td>92.0</td><td>&quot;That Christmas is a CG animati…</td><td>false</td></tr><tr><td>&quot;Carry-On&quot;</td><td>&quot;December 13, 2024[17]&quot;</td><td>&quot;Action thriller&quot;</td><td>&quot;1 h 58 min&quot;</td><td>&quot;English&quot;</td><td>&quot;/wiki/Carry-On&quot;</td><td>2024-10-14 00:00:00</td><td>125</td><td>&quot;since_2024&quot;</td><td>2024-12-13 00:00:00</td><td>2024</td><td>118.0</td><td>&quot;Carry-On is a Action thriller …</td><td>false</td></tr><tr><td>&quot;The Six Triple Eight&quot;</td><td>&quot;December 20, 2024[17]&quot;</td><td>&quot;Period drama&quot;</td><td>&quot;TBA&quot;</td><td>&quot;English&quot;</td><td>&quot;/wiki/The_Six_Triple_Eight&quot;</td><td>2024-10-14 00:00:00</td><td>126</td><td>&quot;since_2024&quot;</td><td>2024-12-20 00:00:00</td><td>2024</td><td>105.0</td><td>&quot;The Six Triple Eight is a Peri…</td><td>true</td></tr><tr><td>&quot;Back in Action&quot;</td><td>&quot;January 17, 2025[17][43]&quot;</td><td>&quot;Action comedy&quot;</td><td>&quot;TBA&quot;</td><td>&quot;English&quot;</td><td>&quot;/wiki/Back_in_Action&quot;</td><td>2024-10-14 00:00:00</td><td>127</td><td>&quot;since_2024&quot;</td><td>2025-01-17 00:00:00</td><td>2024</td><td>105.0</td><td>&quot;Back in Action is a Action com…</td><td>true</td></tr><tr><td>&quot;The Witcher: Sirens of the Dee…</td><td>&quot;February 11, 2025[45]&quot;</td><td>&quot;Animation&quot;</td><td>&quot;TBA&quot;</td><td>&quot;English&quot;</td><td>&quot;/wiki/The_Witcher:_Sirens_of_t…</td><td>2024-10-14 00:00:00</td><td>128</td><td>&quot;since_2024&quot;</td><td>2025-02-11 00:00:00</td><td>2024</td><td>105.0</td><td>&quot;The Witcher: Sirens of the Dee…</td><td>true</td></tr></tbody></table></div>"
      ],
      "text/plain": [
       "shape: (609, 14)\n",
       "┌────────────┬────────────┬────────────┬────────────┬───┬──────┬───────────┬───────────┬───────────┐\n",
       "│ Title      ┆ Release    ┆ Genre      ┆ Runtime    ┆ … ┆ year ┆ runtime_m ┆ text      ┆ is_runtim │\n",
       "│ ---        ┆ date       ┆ ---        ┆ ---        ┆   ┆ ---  ┆ in        ┆ ---       ┆ e_null    │\n",
       "│ str        ┆ ---        ┆ str        ┆ str        ┆   ┆ i32  ┆ ---       ┆ str       ┆ ---       │\n",
       "│            ┆ str        ┆            ┆            ┆   ┆      ┆ f64       ┆           ┆ bool      │\n",
       "╞════════════╪════════════╪════════════╪════════════╪═══╪══════╪═══════════╪═══════════╪═══════════╡\n",
       "│ What       ┆ January 1, ┆ Comedy     ┆ 1 h 42 min ┆ … ┆ 2021 ┆ 102.0     ┆ What      ┆ false     │\n",
       "│ Happened   ┆ 2021       ┆            ┆            ┆   ┆      ┆           ┆ Happened  ┆           │\n",
       "│ to Mr.     ┆            ┆            ┆            ┆   ┆      ┆           ┆ to Mr.    ┆           │\n",
       "│ Cha?       ┆            ┆            ┆            ┆   ┆      ┆           ┆ Cha? is   ┆           │\n",
       "│            ┆            ┆            ┆            ┆   ┆      ┆           ┆ a…        ┆           │\n",
       "│ Pieces of  ┆ January 7, ┆ Drama      ┆ 2 h 6 min  ┆ … ┆ 2021 ┆ 126.0     ┆ Pieces of ┆ false     │\n",
       "│ a Woman    ┆ 2021       ┆            ┆            ┆   ┆      ┆           ┆ a Woman   ┆           │\n",
       "│            ┆            ┆            ┆            ┆   ┆      ┆           ┆ is a      ┆           │\n",
       "│            ┆            ┆            ┆            ┆   ┆      ┆           ┆ Drama N…  ┆           │\n",
       "│ Stuck      ┆ January 8, ┆ Drama      ┆ 1 h 36 min ┆ … ┆ 2021 ┆ 96.0      ┆ Stuck     ┆ false     │\n",
       "│ Apart      ┆ 2021       ┆            ┆            ┆   ┆      ┆           ┆ Apart is  ┆           │\n",
       "│            ┆            ┆            ┆            ┆   ┆      ┆           ┆ a Drama   ┆           │\n",
       "│            ┆            ┆            ┆            ┆   ┆      ┆           ┆ Netflix…  ┆           │\n",
       "│ The        ┆ January    ┆ Comedy     ┆ 1 h 41 min ┆ … ┆ 2021 ┆ 101.0     ┆ The Heart ┆ false     │\n",
       "│ Heartbreak ┆ 14, 2021   ┆ drama      ┆            ┆   ┆      ┆           ┆ break     ┆           │\n",
       "│ Club       ┆            ┆            ┆            ┆   ┆      ┆           ┆ Club is a ┆           │\n",
       "│            ┆            ┆            ┆            ┆   ┆      ┆           ┆ Comed…    ┆           │\n",
       "│ Double Dad ┆ January    ┆ Comedy     ┆ 1 h 45 min ┆ … ┆ 2021 ┆ 105.0     ┆ Double    ┆ false     │\n",
       "│            ┆ 15, 2021   ┆ drama      ┆            ┆   ┆      ┆           ┆ Dad is a  ┆           │\n",
       "│            ┆            ┆            ┆            ┆   ┆      ┆           ┆ Comedy    ┆           │\n",
       "│            ┆            ┆            ┆            ┆   ┆      ┆           ┆ drama N…  ┆           │\n",
       "│ …          ┆ …          ┆ …          ┆ …          ┆ … ┆ …    ┆ …         ┆ …         ┆ …         │\n",
       "│ That       ┆ December   ┆ CG         ┆ 1 h 32 min ┆ … ┆ 2024 ┆ 92.0      ┆ That      ┆ false     │\n",
       "│ Christmas  ┆ 4, 2024[21 ┆ animation  ┆            ┆   ┆      ┆           ┆ Christmas ┆           │\n",
       "│            ┆ ][17]      ┆            ┆            ┆   ┆      ┆           ┆ is a CG   ┆           │\n",
       "│            ┆            ┆            ┆            ┆   ┆      ┆           ┆ animati…  ┆           │\n",
       "│ Carry-On   ┆ December   ┆ Action     ┆ 1 h 58 min ┆ … ┆ 2024 ┆ 118.0     ┆ Carry-On  ┆ false     │\n",
       "│            ┆ 13,        ┆ thriller   ┆            ┆   ┆      ┆           ┆ is a      ┆           │\n",
       "│            ┆ 2024[17]   ┆            ┆            ┆   ┆      ┆           ┆ Action    ┆           │\n",
       "│            ┆            ┆            ┆            ┆   ┆      ┆           ┆ thriller  ┆           │\n",
       "│            ┆            ┆            ┆            ┆   ┆      ┆           ┆ …         ┆           │\n",
       "│ The Six    ┆ December   ┆ Period     ┆ TBA        ┆ … ┆ 2024 ┆ 105.0     ┆ The Six   ┆ true      │\n",
       "│ Triple     ┆ 20,        ┆ drama      ┆            ┆   ┆      ┆           ┆ Triple    ┆           │\n",
       "│ Eight      ┆ 2024[17]   ┆            ┆            ┆   ┆      ┆           ┆ Eight is  ┆           │\n",
       "│            ┆            ┆            ┆            ┆   ┆      ┆           ┆ a Peri…   ┆           │\n",
       "│ Back in    ┆ January    ┆ Action     ┆ TBA        ┆ … ┆ 2024 ┆ 105.0     ┆ Back in   ┆ true      │\n",
       "│ Action     ┆ 17, 2025[1 ┆ comedy     ┆            ┆   ┆      ┆           ┆ Action is ┆           │\n",
       "│            ┆ 7][43]     ┆            ┆            ┆   ┆      ┆           ┆ a Action  ┆           │\n",
       "│            ┆            ┆            ┆            ┆   ┆      ┆           ┆ com…      ┆           │\n",
       "│ The        ┆ February   ┆ Animation  ┆ TBA        ┆ … ┆ 2024 ┆ 105.0     ┆ The       ┆ true      │\n",
       "│ Witcher:   ┆ 11,        ┆            ┆            ┆   ┆      ┆           ┆ Witcher:  ┆           │\n",
       "│ Sirens of  ┆ 2025[45]   ┆            ┆            ┆   ┆      ┆           ┆ Sirens of ┆           │\n",
       "│ the Dee…   ┆            ┆            ┆            ┆   ┆      ┆           ┆ the Dee…  ┆           │\n",
       "└────────────┴────────────┴────────────┴────────────┴───┴──────┴───────────┴───────────┴───────────┘"
      ]
     },
     "execution_count": 35,
     "metadata": {},
     "output_type": "execute_result"
    }
   ],
   "source": [
    "movies_clean"
   ]
  },
  {
   "cell_type": "code",
   "execution_count": 36,
   "metadata": {},
   "outputs": [
    {
     "data": {
      "text/html": [
       "<div><style>\n",
       ".dataframe > thead > tr,\n",
       ".dataframe > tbody > tr {\n",
       "  text-align: right;\n",
       "  white-space: pre-wrap;\n",
       "}\n",
       "</style>\n",
       "<small>shape: (1, 14)</small><table border=\"1\" class=\"dataframe\"><thead><tr><th>Title</th><th>Release date</th><th>Genre</th><th>Runtime</th><th>Language</th><th>Link</th><th>parse_ts</th><th>TitleId</th><th>SourceYear</th><th>release_date</th><th>year</th><th>runtime_min</th><th>text</th><th>is_runtime_null</th></tr><tr><td>u32</td><td>u32</td><td>u32</td><td>u32</td><td>u32</td><td>u32</td><td>u32</td><td>u32</td><td>u32</td><td>u32</td><td>u32</td><td>u32</td><td>u32</td><td>u32</td></tr></thead><tbody><tr><td>0</td><td>92</td><td>0</td><td>0</td><td>0</td><td>155</td><td>0</td><td>0</td><td>0</td><td>0</td><td>0</td><td>0</td><td>0</td><td>0</td></tr></tbody></table></div>"
      ],
      "text/plain": [
       "shape: (1, 14)\n",
       "┌───────┬──────────────┬───────┬─────────┬───┬──────┬─────────────┬──────┬─────────────────┐\n",
       "│ Title ┆ Release date ┆ Genre ┆ Runtime ┆ … ┆ year ┆ runtime_min ┆ text ┆ is_runtime_null │\n",
       "│ ---   ┆ ---          ┆ ---   ┆ ---     ┆   ┆ ---  ┆ ---         ┆ ---  ┆ ---             │\n",
       "│ u32   ┆ u32          ┆ u32   ┆ u32     ┆   ┆ u32  ┆ u32         ┆ u32  ┆ u32             │\n",
       "╞═══════╪══════════════╪═══════╪═════════╪═══╪══════╪═════════════╪══════╪═════════════════╡\n",
       "│ 0     ┆ 92           ┆ 0     ┆ 0       ┆ … ┆ 0    ┆ 0           ┆ 0    ┆ 0               │\n",
       "└───────┴──────────────┴───────┴─────────┴───┴──────┴─────────────┴──────┴─────────────────┘"
      ]
     },
     "execution_count": 36,
     "metadata": {},
     "output_type": "execute_result"
    }
   ],
   "source": [
    "movies_clean.null_count()"
   ]
  },
  {
   "cell_type": "code",
   "execution_count": 37,
   "metadata": {},
   "outputs": [
    {
     "data": {
      "text/html": [
       "<div><style>\n",
       ".dataframe > thead > tr,\n",
       ".dataframe > tbody > tr {\n",
       "  text-align: right;\n",
       "  white-space: pre-wrap;\n",
       "}\n",
       "</style>\n",
       "<small>shape: (1, 14)</small><table border=\"1\" class=\"dataframe\"><thead><tr><th>Title</th><th>Release date</th><th>Genre</th><th>Runtime</th><th>Language</th><th>Link</th><th>parse_ts</th><th>TitleId</th><th>SourceYear</th><th>release_date</th><th>year</th><th>runtime_min</th><th>text</th><th>is_runtime_null</th></tr><tr><td>str</td><td>str</td><td>str</td><td>str</td><td>str</td><td>str</td><td>datetime[μs]</td><td>i64</td><td>str</td><td>datetime[μs]</td><td>i32</td><td>f64</td><td>str</td><td>bool</td></tr></thead><tbody><tr><td>&quot;The Platform 2&quot;</td><td>null</td><td>&quot;Science fiction&quot;</td><td>&quot;1 h 40 min&quot;</td><td>&quot;Spanish&quot;</td><td>&quot;/wiki/The_Platform_2&quot;</td><td>2024-10-14 00:00:00</td><td>99</td><td>&quot;since_2024&quot;</td><td>2024-10-04 00:00:00</td><td>2024</td><td>100.0</td><td>&quot;The Platform 2 is a Science fi…</td><td>false</td></tr></tbody></table></div>"
      ],
      "text/plain": [
       "shape: (1, 14)\n",
       "┌────────────┬────────────┬────────────┬────────────┬───┬──────┬───────────┬───────────┬───────────┐\n",
       "│ Title      ┆ Release    ┆ Genre      ┆ Runtime    ┆ … ┆ year ┆ runtime_m ┆ text      ┆ is_runtim │\n",
       "│ ---        ┆ date       ┆ ---        ┆ ---        ┆   ┆ ---  ┆ in        ┆ ---       ┆ e_null    │\n",
       "│ str        ┆ ---        ┆ str        ┆ str        ┆   ┆ i32  ┆ ---       ┆ str       ┆ ---       │\n",
       "│            ┆ str        ┆            ┆            ┆   ┆      ┆ f64       ┆           ┆ bool      │\n",
       "╞════════════╪════════════╪════════════╪════════════╪═══╪══════╪═══════════╪═══════════╪═══════════╡\n",
       "│ The        ┆ null       ┆ Science    ┆ 1 h 40 min ┆ … ┆ 2024 ┆ 100.0     ┆ The       ┆ false     │\n",
       "│ Platform 2 ┆            ┆ fiction    ┆            ┆   ┆      ┆           ┆ Platform  ┆           │\n",
       "│            ┆            ┆            ┆            ┆   ┆      ┆           ┆ 2 is a    ┆           │\n",
       "│            ┆            ┆            ┆            ┆   ┆      ┆           ┆ Science   ┆           │\n",
       "│            ┆            ┆            ┆            ┆   ┆      ┆           ┆ fi…       ┆           │\n",
       "└────────────┴────────────┴────────────┴────────────┴───┴──────┴───────────┴───────────┴───────────┘"
      ]
     },
     "execution_count": 37,
     "metadata": {},
     "output_type": "execute_result"
    }
   ],
   "source": [
    "movies_clean.filter(pl.col(\"Title\") == \"The Platform 2\")"
   ]
  },
  {
   "cell_type": "code",
   "execution_count": 38,
   "metadata": {},
   "outputs": [
    {
     "data": {
      "text/html": [
       "<div><style>\n",
       ".dataframe > thead > tr,\n",
       ".dataframe > tbody > tr {\n",
       "  text-align: right;\n",
       "  white-space: pre-wrap;\n",
       "}\n",
       "</style>\n",
       "<small>shape: (12, 14)</small><table border=\"1\" class=\"dataframe\"><thead><tr><th>Title</th><th>Release date</th><th>Genre</th><th>Runtime</th><th>Language</th><th>Link</th><th>parse_ts</th><th>TitleId</th><th>SourceYear</th><th>release_date</th><th>year</th><th>runtime_min</th><th>text</th><th>is_runtime_null</th></tr><tr><td>str</td><td>str</td><td>str</td><td>str</td><td>str</td><td>str</td><td>datetime[μs]</td><td>i64</td><td>str</td><td>datetime[μs]</td><td>i32</td><td>f64</td><td>str</td><td>bool</td></tr></thead><tbody><tr><td>&quot;Justice&quot;</td><td>&quot;October 16, 2024[4]&quot;</td><td>&quot;Crime drama&quot;</td><td>&quot;TBA&quot;</td><td>&quot;Polish&quot;</td><td>&quot;#cite_note-October_2024-2&quot;</td><td>2024-10-14 00:00:00</td><td>104</td><td>&quot;since_2024&quot;</td><td>2024-10-16 00:00:00</td><td>2024</td><td>105.0</td><td>&quot;Justice is a Crime drama Netfl…</td><td>true</td></tr><tr><td>&quot;Happiness Is&quot;</td><td>&quot;October 18, 2024&quot;</td><td>&quot;Comedy drama&quot;</td><td>&quot;TBA&quot;</td><td>&quot;English&quot;</td><td>&quot;#cite_note-8&quot;</td><td>2024-10-14 00:00:00</td><td>107</td><td>&quot;since_2024&quot;</td><td>2024-10-18 00:00:00</td><td>2024</td><td>105.0</td><td>&quot;Happiness Is is a Comedy drama…</td><td>true</td></tr><tr><td>&quot;The Man Who Loved UFOs&quot;</td><td>&quot;October 18, 2024[9]&quot;</td><td>&quot;Comedy drama&quot;</td><td>&quot;TBA&quot;</td><td>&quot;Spanish&quot;</td><td>&quot;/wiki/The_Man_Who_Loved_UFOs&quot;</td><td>2024-10-14 00:00:00</td><td>108</td><td>&quot;since_2024&quot;</td><td>2024-10-18 00:00:00</td><td>2024</td><td>105.0</td><td>&quot;The Man Who Loved UFOs is a Co…</td><td>true</td></tr><tr><td>&quot;Do Patti&quot;</td><td>&quot;October 25, 2024[13]&quot;</td><td>&quot;Mystery thriller&quot;</td><td>&quot;TBA&quot;</td><td>&quot;Hindi&quot;</td><td>&quot;/wiki/Do_Patti_(film)&quot;</td><td>2024-10-14 00:00:00</td><td>110</td><td>&quot;since_2024&quot;</td><td>2024-10-25 00:00:00</td><td>2024</td><td>105.0</td><td>&quot;Do Patti is a Mystery thriller…</td><td>true</td></tr><tr><td>&quot;Hijack &#x27;93&quot;</td><td>&quot;October 25, 2024&quot;</td><td>&quot;Historical thriller&quot;</td><td>&quot;TBA&quot;</td><td>&quot;English&quot;</td><td>&quot;#cite_note-15&quot;</td><td>2024-10-14 00:00:00</td><td>112</td><td>&quot;since_2024&quot;</td><td>2024-10-25 00:00:00</td><td>2024</td><td>105.0</td><td>&quot;Hijack &#x27;93 is a Historical thr…</td><td>true</td></tr><tr><td>&hellip;</td><td>&hellip;</td><td>&hellip;</td><td>&hellip;</td><td>&hellip;</td><td>&hellip;</td><td>&hellip;</td><td>&hellip;</td><td>&hellip;</td><td>&hellip;</td><td>&hellip;</td><td>&hellip;</td><td>&hellip;</td><td>&hellip;</td></tr><tr><td>&quot;The Merry Gentlemen&quot;</td><td>&quot;November 20, 2024[17]&quot;</td><td>&quot;Romantic comedy&quot;</td><td>&quot;TBA&quot;</td><td>&quot;English&quot;</td><td>&quot;/wiki/The_Merry_Gentlemen&quot;</td><td>2024-10-14 00:00:00</td><td>119</td><td>&quot;since_2024&quot;</td><td>2024-11-20 00:00:00</td><td>2024</td><td>105.0</td><td>&quot;The Merry Gentlemen is a Roman…</td><td>true</td></tr><tr><td>&quot;Our Little Secret&quot;</td><td>&quot;November 27, 2024[17]&quot;</td><td>&quot;Romantic comedy&quot;</td><td>&quot;TBA&quot;</td><td>&quot;English&quot;</td><td>&quot;/wiki/Our_Little_Secret_(film)&quot;</td><td>2024-10-14 00:00:00</td><td>123</td><td>&quot;since_2024&quot;</td><td>2024-11-27 00:00:00</td><td>2024</td><td>105.0</td><td>&quot;Our Little Secret is a Romanti…</td><td>true</td></tr><tr><td>&quot;The Six Triple Eight&quot;</td><td>&quot;December 20, 2024[17]&quot;</td><td>&quot;Period drama&quot;</td><td>&quot;TBA&quot;</td><td>&quot;English&quot;</td><td>&quot;/wiki/The_Six_Triple_Eight&quot;</td><td>2024-10-14 00:00:00</td><td>126</td><td>&quot;since_2024&quot;</td><td>2024-12-20 00:00:00</td><td>2024</td><td>105.0</td><td>&quot;The Six Triple Eight is a Peri…</td><td>true</td></tr><tr><td>&quot;Back in Action&quot;</td><td>&quot;January 17, 2025[17][43]&quot;</td><td>&quot;Action comedy&quot;</td><td>&quot;TBA&quot;</td><td>&quot;English&quot;</td><td>&quot;/wiki/Back_in_Action&quot;</td><td>2024-10-14 00:00:00</td><td>127</td><td>&quot;since_2024&quot;</td><td>2025-01-17 00:00:00</td><td>2024</td><td>105.0</td><td>&quot;Back in Action is a Action com…</td><td>true</td></tr><tr><td>&quot;The Witcher: Sirens of the Dee…</td><td>&quot;February 11, 2025[45]&quot;</td><td>&quot;Animation&quot;</td><td>&quot;TBA&quot;</td><td>&quot;English&quot;</td><td>&quot;/wiki/The_Witcher:_Sirens_of_t…</td><td>2024-10-14 00:00:00</td><td>128</td><td>&quot;since_2024&quot;</td><td>2025-02-11 00:00:00</td><td>2024</td><td>105.0</td><td>&quot;The Witcher: Sirens of the Dee…</td><td>true</td></tr></tbody></table></div>"
      ],
      "text/plain": [
       "shape: (12, 14)\n",
       "┌────────────┬────────────┬────────────┬─────────┬───┬──────┬────────────┬────────────┬────────────┐\n",
       "│ Title      ┆ Release    ┆ Genre      ┆ Runtime ┆ … ┆ year ┆ runtime_mi ┆ text       ┆ is_runtime │\n",
       "│ ---        ┆ date       ┆ ---        ┆ ---     ┆   ┆ ---  ┆ n          ┆ ---        ┆ _null      │\n",
       "│ str        ┆ ---        ┆ str        ┆ str     ┆   ┆ i32  ┆ ---        ┆ str        ┆ ---        │\n",
       "│            ┆ str        ┆            ┆         ┆   ┆      ┆ f64        ┆            ┆ bool       │\n",
       "╞════════════╪════════════╪════════════╪═════════╪═══╪══════╪════════════╪════════════╪════════════╡\n",
       "│ Justice    ┆ October    ┆ Crime      ┆ TBA     ┆ … ┆ 2024 ┆ 105.0      ┆ Justice is ┆ true       │\n",
       "│            ┆ 16,        ┆ drama      ┆         ┆   ┆      ┆            ┆ a Crime    ┆            │\n",
       "│            ┆ 2024[4]    ┆            ┆         ┆   ┆      ┆            ┆ drama      ┆            │\n",
       "│            ┆            ┆            ┆         ┆   ┆      ┆            ┆ Netfl…     ┆            │\n",
       "│ Happiness  ┆ October    ┆ Comedy     ┆ TBA     ┆ … ┆ 2024 ┆ 105.0      ┆ Happiness  ┆ true       │\n",
       "│ Is         ┆ 18, 2024   ┆ drama      ┆         ┆   ┆      ┆            ┆ Is is a    ┆            │\n",
       "│            ┆            ┆            ┆         ┆   ┆      ┆            ┆ Comedy     ┆            │\n",
       "│            ┆            ┆            ┆         ┆   ┆      ┆            ┆ drama…     ┆            │\n",
       "│ The Man    ┆ October    ┆ Comedy     ┆ TBA     ┆ … ┆ 2024 ┆ 105.0      ┆ The Man    ┆ true       │\n",
       "│ Who Loved  ┆ 18,        ┆ drama      ┆         ┆   ┆      ┆            ┆ Who Loved  ┆            │\n",
       "│ UFOs       ┆ 2024[9]    ┆            ┆         ┆   ┆      ┆            ┆ UFOs is a  ┆            │\n",
       "│            ┆            ┆            ┆         ┆   ┆      ┆            ┆ Co…        ┆            │\n",
       "│ Do Patti   ┆ October    ┆ Mystery    ┆ TBA     ┆ … ┆ 2024 ┆ 105.0      ┆ Do Patti   ┆ true       │\n",
       "│            ┆ 25,        ┆ thriller   ┆         ┆   ┆      ┆            ┆ is a       ┆            │\n",
       "│            ┆ 2024[13]   ┆            ┆         ┆   ┆      ┆            ┆ Mystery    ┆            │\n",
       "│            ┆            ┆            ┆         ┆   ┆      ┆            ┆ thriller…  ┆            │\n",
       "│ Hijack '93 ┆ October    ┆ Historical ┆ TBA     ┆ … ┆ 2024 ┆ 105.0      ┆ Hijack '93 ┆ true       │\n",
       "│            ┆ 25, 2024   ┆ thriller   ┆         ┆   ┆      ┆            ┆ is a       ┆            │\n",
       "│            ┆            ┆            ┆         ┆   ┆      ┆            ┆ Historical ┆            │\n",
       "│            ┆            ┆            ┆         ┆   ┆      ┆            ┆ thr…       ┆            │\n",
       "│ …          ┆ …          ┆ …          ┆ …       ┆ … ┆ …    ┆ …          ┆ …          ┆ …          │\n",
       "│ The Merry  ┆ November   ┆ Romantic   ┆ TBA     ┆ … ┆ 2024 ┆ 105.0      ┆ The Merry  ┆ true       │\n",
       "│ Gentlemen  ┆ 20,        ┆ comedy     ┆         ┆   ┆      ┆            ┆ Gentlemen  ┆            │\n",
       "│            ┆ 2024[17]   ┆            ┆         ┆   ┆      ┆            ┆ is a       ┆            │\n",
       "│            ┆            ┆            ┆         ┆   ┆      ┆            ┆ Roman…     ┆            │\n",
       "│ Our Little ┆ November   ┆ Romantic   ┆ TBA     ┆ … ┆ 2024 ┆ 105.0      ┆ Our Little ┆ true       │\n",
       "│ Secret     ┆ 27,        ┆ comedy     ┆         ┆   ┆      ┆            ┆ Secret is  ┆            │\n",
       "│            ┆ 2024[17]   ┆            ┆         ┆   ┆      ┆            ┆ a Romanti… ┆            │\n",
       "│ The Six    ┆ December   ┆ Period     ┆ TBA     ┆ … ┆ 2024 ┆ 105.0      ┆ The Six    ┆ true       │\n",
       "│ Triple     ┆ 20,        ┆ drama      ┆         ┆   ┆      ┆            ┆ Triple     ┆            │\n",
       "│ Eight      ┆ 2024[17]   ┆            ┆         ┆   ┆      ┆            ┆ Eight is a ┆            │\n",
       "│            ┆            ┆            ┆         ┆   ┆      ┆            ┆ Peri…      ┆            │\n",
       "│ Back in    ┆ January    ┆ Action     ┆ TBA     ┆ … ┆ 2024 ┆ 105.0      ┆ Back in    ┆ true       │\n",
       "│ Action     ┆ 17, 2025[1 ┆ comedy     ┆         ┆   ┆      ┆            ┆ Action is  ┆            │\n",
       "│            ┆ 7][43]     ┆            ┆         ┆   ┆      ┆            ┆ a Action   ┆            │\n",
       "│            ┆            ┆            ┆         ┆   ┆      ┆            ┆ com…       ┆            │\n",
       "│ The        ┆ February   ┆ Animation  ┆ TBA     ┆ … ┆ 2024 ┆ 105.0      ┆ The        ┆ true       │\n",
       "│ Witcher:   ┆ 11,        ┆            ┆         ┆   ┆      ┆            ┆ Witcher:   ┆            │\n",
       "│ Sirens of  ┆ 2025[45]   ┆            ┆         ┆   ┆      ┆            ┆ Sirens of  ┆            │\n",
       "│ the Dee…   ┆            ┆            ┆         ┆   ┆      ┆            ┆ the Dee…   ┆            │\n",
       "└────────────┴────────────┴────────────┴─────────┴───┴──────┴────────────┴────────────┴────────────┘"
      ]
     },
     "execution_count": 38,
     "metadata": {},
     "output_type": "execute_result"
    }
   ],
   "source": [
    "movies_clean.filter(pl.col(\"is_runtime_null\"))"
   ]
  },
  {
   "cell_type": "code",
   "execution_count": null,
   "metadata": {},
   "outputs": [],
   "source": []
  },
  {
   "cell_type": "markdown",
   "metadata": {},
   "source": [
    "# Movies Data"
   ]
  },
  {
   "cell_type": "code",
   "execution_count": 39,
   "metadata": {},
   "outputs": [],
   "source": [
    "import json \n",
    "\n",
    "movies_data_l = []\n",
    "meta_cols = [\"parse_ts\", \"TitleId\", \"SourceYear\", \"Title\"]\n",
    "\n",
    "years = [\"2021\", \"2022\", \"2023\", \"since_2024\"]\n",
    "for year in years:\n",
    "    with open(path / f\"movies_data_{year}.json\", \"r\") as f:\n",
    "        movies_data = json.load(f)\n",
    "\n",
    "    for movie_info in movies_data:\n",
    "        for topic, topic_text in movie_info.items():\n",
    "            if topic not in meta_cols:\n",
    "                movies_data_l.append({\n",
    "                    \"parse_ts\": movie_info[\"parse_ts\"],\n",
    "                    \"TitleId\": movie_info[\"TitleId\"],\n",
    "                    \"SourceYear\": movie_info[\"SourceYear\"],\n",
    "                    \"topic\": topic,\n",
    "                    \"text\": topic_text\n",
    "                })\n",
    "\n",
    "\n",
    "movies_clean_cols = [\"TitleId\", \"SourceYear\", \"Title\", \"Genre\", \"runtime_min\", \"Language\", \"release_date\"]\n",
    "movies_data_df = pl.DataFrame(movies_data_l).with_columns(\n",
    "    pl.col(\"parse_ts\").str.to_datetime(),\n",
    ").join(movies_clean.select(movies_clean_cols), on=[\"TitleId\", \"SourceYear\"], how=\"left\")\n",
    "            "
   ]
  },
  {
   "cell_type": "code",
   "execution_count": 116,
   "metadata": {},
   "outputs": [
    {
     "data": {
      "text/plain": [
       "\"General info for movie 'Pieces of a Woman' (released on: 2021-01-07, Genre: Drama, Language: English, Runtime: 126.0 minutes): Pieces of a Woman is a 2020 drama film directed by KornÃ©l MundruczÃ³ , from a screenplay by Kata WÃ©ber . The film stars Vanessa Kirby , Shia LaBeouf , Molly Parker , Sarah Snook , Iliza Shlesinger , Benny Safdie , Jimmie Fails , and Ellen Burstyn as the family and associates of Martha (Kirby) involved in her traumatic childbirth, baby loss, and a subsequent court case against the midwife, Eva (Parker), whom Martha's mother Elizabeth (Burstyn) blames for the baby's death. Martin Scorsese and Sam Levinson served as executive producers, and the film was scored by Howard Shore . An international co-production of the United States and Canada, the film is partly based on MundruczÃ³ and WÃ©ber's stage play of the same name and explores themes of grief and loss. It premiered on September 4, 2020, at the 77th Venice International Film Festival , where Kirby won the Volpi Cup for Best Actress . It was released in select theaters on December 30, 2020, before beginning to digitally stream on Netflix on January 7, 2021, and became noted for its long take childbirth scene at the start of the film. The film received generally positive reviews, with praise for the actors, particularly Kirby and Burstyn, though elements of the plot were criticized. For her performance, Kirby received Academy Award , BAFTA , SAG , Critics' Choice , and Golden Globe nominations.\""
      ]
     },
     "execution_count": 116,
     "metadata": {},
     "output_type": "execute_result"
    }
   ],
   "source": [
    "def meta_text():\n",
    "    return  (pl.col(\"topic\") + \" info for movie '\" + pl.col(\"Title\") + \"' (released on: \" + pl.col(\"release_date\").dt.strftime(\"%Y-%m-%d\") +\n",
    "         \", Genre: \" + pl.col(\"Genre\") + \", Language: \" + pl.col(\"Language\") + \", Runtime: \" + pl.col(\"runtime_min\").cast(pl.Utf8) + \" minutes)\"\n",
    "    )\n",
    "\n",
    "movies_data_df.with_columns(\n",
    "    (meta_text() + \": \" + pl.col(\"text\")).alias(\"meta_text\")\n",
    ")[\"meta_text\"][0]"
   ]
  },
  {
   "cell_type": "code",
   "execution_count": 40,
   "metadata": {},
   "outputs": [
    {
     "data": {
      "text/html": [
       "<div><style>\n",
       ".dataframe > thead > tr,\n",
       ".dataframe > tbody > tr {\n",
       "  text-align: right;\n",
       "  white-space: pre-wrap;\n",
       "}\n",
       "</style>\n",
       "<small>shape: (2_081, 10)</small><table border=\"1\" class=\"dataframe\"><thead><tr><th>parse_ts</th><th>TitleId</th><th>SourceYear</th><th>topic</th><th>text</th><th>Title</th><th>Genre</th><th>runtime_min</th><th>Language</th><th>release_date</th></tr><tr><td>datetime[μs]</td><td>i64</td><td>str</td><td>str</td><td>str</td><td>str</td><td>str</td><td>f64</td><td>str</td><td>datetime[μs]</td></tr></thead><tbody><tr><td>2024-10-14 00:00:00</td><td>1</td><td>&quot;2021&quot;</td><td>&quot;General&quot;</td><td>&quot;Pieces of a Woman is a 2020 dr…</td><td>&quot;Pieces of a Woman&quot;</td><td>&quot;Drama&quot;</td><td>126.0</td><td>&quot;English&quot;</td><td>2021-01-07 00:00:00</td></tr><tr><td>2024-10-14 00:00:00</td><td>1</td><td>&quot;2021&quot;</td><td>&quot;Plot&quot;</td><td>&quot;Martha and Sean, a young Bosto…</td><td>&quot;Pieces of a Woman&quot;</td><td>&quot;Drama&quot;</td><td>126.0</td><td>&quot;English&quot;</td><td>2021-01-07 00:00:00</td></tr><tr><td>2024-10-14 00:00:00</td><td>1</td><td>&quot;2021&quot;</td><td>&quot;Cast&quot;</td><td>&quot;Vanessa Kirby as Martha Weiss …</td><td>&quot;Pieces of a Woman&quot;</td><td>&quot;Drama&quot;</td><td>126.0</td><td>&quot;English&quot;</td><td>2021-01-07 00:00:00</td></tr><tr><td>2024-10-14 00:00:00</td><td>1</td><td>&quot;2021&quot;</td><td>&quot;Production-Play&quot;</td><td>&quot;The play Pieces of a Woman was…</td><td>&quot;Pieces of a Woman&quot;</td><td>&quot;Drama&quot;</td><td>126.0</td><td>&quot;English&quot;</td><td>2021-01-07 00:00:00</td></tr><tr><td>2024-10-14 00:00:00</td><td>1</td><td>&quot;2021&quot;</td><td>&quot;Production-Development and the…</td><td>&quot;The film Pieces of a Woman was…</td><td>&quot;Pieces of a Woman&quot;</td><td>&quot;Drama&quot;</td><td>126.0</td><td>&quot;English&quot;</td><td>2021-01-07 00:00:00</td></tr><tr><td>&hellip;</td><td>&hellip;</td><td>&hellip;</td><td>&hellip;</td><td>&hellip;</td><td>&hellip;</td><td>&hellip;</td><td>&hellip;</td><td>&hellip;</td><td>&hellip;</td></tr><tr><td>2024-10-14 00:00:00</td><td>127</td><td>&quot;since_2024&quot;</td><td>&quot;Production&quot;</td><td>&quot;In June 2022, it was reported …</td><td>&quot;Back in Action&quot;</td><td>&quot;Action comedy&quot;</td><td>105.0</td><td>&quot;English&quot;</td><td>2025-01-17 00:00:00</td></tr><tr><td>2024-10-14 00:00:00</td><td>127</td><td>&quot;since_2024&quot;</td><td>&quot;Release&quot;</td><td>&quot;Back in Action is scheduled to…</td><td>&quot;Back in Action&quot;</td><td>&quot;Action comedy&quot;</td><td>105.0</td><td>&quot;English&quot;</td><td>2025-01-17 00:00:00</td></tr><tr><td>2024-10-14 00:00:00</td><td>128</td><td>&quot;since_2024&quot;</td><td>&quot;General&quot;</td><td>&quot;The Witcher: Sirens of the Dee…</td><td>&quot;The Witcher: Sirens of the Dee…</td><td>&quot;Animation&quot;</td><td>105.0</td><td>&quot;English&quot;</td><td>2025-02-11 00:00:00</td></tr><tr><td>2024-10-14 00:00:00</td><td>128</td><td>&quot;since_2024&quot;</td><td>&quot;Cast&quot;</td><td>&quot;Doug Cockle as Geralt of Rivia…</td><td>&quot;The Witcher: Sirens of the Dee…</td><td>&quot;Animation&quot;</td><td>105.0</td><td>&quot;English&quot;</td><td>2025-02-11 00:00:00</td></tr><tr><td>2024-10-14 00:00:00</td><td>128</td><td>&quot;since_2024&quot;</td><td>&quot;Production&quot;</td><td>&quot;In September 2021 at Tudum: A …</td><td>&quot;The Witcher: Sirens of the Dee…</td><td>&quot;Animation&quot;</td><td>105.0</td><td>&quot;English&quot;</td><td>2025-02-11 00:00:00</td></tr></tbody></table></div>"
      ],
      "text/plain": [
       "shape: (2_081, 10)\n",
       "┌────────────┬─────────┬────────────┬───────────┬───┬───────────┬───────────┬──────────┬───────────┐\n",
       "│ parse_ts   ┆ TitleId ┆ SourceYear ┆ topic     ┆ … ┆ Genre     ┆ runtime_m ┆ Language ┆ release_d │\n",
       "│ ---        ┆ ---     ┆ ---        ┆ ---       ┆   ┆ ---       ┆ in        ┆ ---      ┆ ate       │\n",
       "│ datetime[μ ┆ i64     ┆ str        ┆ str       ┆   ┆ str       ┆ ---       ┆ str      ┆ ---       │\n",
       "│ s]         ┆         ┆            ┆           ┆   ┆           ┆ f64       ┆          ┆ datetime[ │\n",
       "│            ┆         ┆            ┆           ┆   ┆           ┆           ┆          ┆ μs]       │\n",
       "╞════════════╪═════════╪════════════╪═══════════╪═══╪═══════════╪═══════════╪══════════╪═══════════╡\n",
       "│ 2024-10-14 ┆ 1       ┆ 2021       ┆ General   ┆ … ┆ Drama     ┆ 126.0     ┆ English  ┆ 2021-01-0 │\n",
       "│ 00:00:00   ┆         ┆            ┆           ┆   ┆           ┆           ┆          ┆ 7         │\n",
       "│            ┆         ┆            ┆           ┆   ┆           ┆           ┆          ┆ 00:00:00  │\n",
       "│ 2024-10-14 ┆ 1       ┆ 2021       ┆ Plot      ┆ … ┆ Drama     ┆ 126.0     ┆ English  ┆ 2021-01-0 │\n",
       "│ 00:00:00   ┆         ┆            ┆           ┆   ┆           ┆           ┆          ┆ 7         │\n",
       "│            ┆         ┆            ┆           ┆   ┆           ┆           ┆          ┆ 00:00:00  │\n",
       "│ 2024-10-14 ┆ 1       ┆ 2021       ┆ Cast      ┆ … ┆ Drama     ┆ 126.0     ┆ English  ┆ 2021-01-0 │\n",
       "│ 00:00:00   ┆         ┆            ┆           ┆   ┆           ┆           ┆          ┆ 7         │\n",
       "│            ┆         ┆            ┆           ┆   ┆           ┆           ┆          ┆ 00:00:00  │\n",
       "│ 2024-10-14 ┆ 1       ┆ 2021       ┆ Productio ┆ … ┆ Drama     ┆ 126.0     ┆ English  ┆ 2021-01-0 │\n",
       "│ 00:00:00   ┆         ┆            ┆ n-Play    ┆   ┆           ┆           ┆          ┆ 7         │\n",
       "│            ┆         ┆            ┆           ┆   ┆           ┆           ┆          ┆ 00:00:00  │\n",
       "│ 2024-10-14 ┆ 1       ┆ 2021       ┆ Productio ┆ … ┆ Drama     ┆ 126.0     ┆ English  ┆ 2021-01-0 │\n",
       "│ 00:00:00   ┆         ┆            ┆ n-Develop ┆   ┆           ┆           ┆          ┆ 7         │\n",
       "│            ┆         ┆            ┆ ment and  ┆   ┆           ┆           ┆          ┆ 00:00:00  │\n",
       "│            ┆         ┆            ┆ the…      ┆   ┆           ┆           ┆          ┆           │\n",
       "│ …          ┆ …       ┆ …          ┆ …         ┆ … ┆ …         ┆ …         ┆ …        ┆ …         │\n",
       "│ 2024-10-14 ┆ 127     ┆ since_2024 ┆ Productio ┆ … ┆ Action    ┆ 105.0     ┆ English  ┆ 2025-01-1 │\n",
       "│ 00:00:00   ┆         ┆            ┆ n         ┆   ┆ comedy    ┆           ┆          ┆ 7         │\n",
       "│            ┆         ┆            ┆           ┆   ┆           ┆           ┆          ┆ 00:00:00  │\n",
       "│ 2024-10-14 ┆ 127     ┆ since_2024 ┆ Release   ┆ … ┆ Action    ┆ 105.0     ┆ English  ┆ 2025-01-1 │\n",
       "│ 00:00:00   ┆         ┆            ┆           ┆   ┆ comedy    ┆           ┆          ┆ 7         │\n",
       "│            ┆         ┆            ┆           ┆   ┆           ┆           ┆          ┆ 00:00:00  │\n",
       "│ 2024-10-14 ┆ 128     ┆ since_2024 ┆ General   ┆ … ┆ Animation ┆ 105.0     ┆ English  ┆ 2025-02-1 │\n",
       "│ 00:00:00   ┆         ┆            ┆           ┆   ┆           ┆           ┆          ┆ 1         │\n",
       "│            ┆         ┆            ┆           ┆   ┆           ┆           ┆          ┆ 00:00:00  │\n",
       "│ 2024-10-14 ┆ 128     ┆ since_2024 ┆ Cast      ┆ … ┆ Animation ┆ 105.0     ┆ English  ┆ 2025-02-1 │\n",
       "│ 00:00:00   ┆         ┆            ┆           ┆   ┆           ┆           ┆          ┆ 1         │\n",
       "│            ┆         ┆            ┆           ┆   ┆           ┆           ┆          ┆ 00:00:00  │\n",
       "│ 2024-10-14 ┆ 128     ┆ since_2024 ┆ Productio ┆ … ┆ Animation ┆ 105.0     ┆ English  ┆ 2025-02-1 │\n",
       "│ 00:00:00   ┆         ┆            ┆ n         ┆   ┆           ┆           ┆          ┆ 1         │\n",
       "│            ┆         ┆            ┆           ┆   ┆           ┆           ┆          ┆ 00:00:00  │\n",
       "└────────────┴─────────┴────────────┴───────────┴───┴───────────┴───────────┴──────────┴───────────┘"
      ]
     },
     "execution_count": 40,
     "metadata": {},
     "output_type": "execute_result"
    }
   ],
   "source": [
    "movies_data_df"
   ]
  },
  {
   "cell_type": "code",
   "execution_count": 41,
   "metadata": {},
   "outputs": [
    {
     "data": {
      "text/html": [
       "<div><style>\n",
       ".dataframe > thead > tr,\n",
       ".dataframe > tbody > tr {\n",
       "  text-align: right;\n",
       "  white-space: pre-wrap;\n",
       "}\n",
       "</style>\n",
       "<small>shape: (9, 4)</small><table border=\"1\" class=\"dataframe\"><thead><tr><th>statistic</th><th>text_chars</th><th>text_words</th><th>text_bytes</th></tr><tr><td>str</td><td>f64</td><td>f64</td><td>f64</td></tr></thead><tbody><tr><td>&quot;count&quot;</td><td>2081.0</td><td>2081.0</td><td>2081.0</td></tr><tr><td>&quot;null_count&quot;</td><td>0.0</td><td>0.0</td><td>0.0</td></tr><tr><td>&quot;mean&quot;</td><td>1011.20519</td><td>178.009611</td><td>1014.234983</td></tr><tr><td>&quot;std&quot;</td><td>1296.089787</td><td>225.549487</td><td>1298.309312</td></tr><tr><td>&quot;min&quot;</td><td>11.0</td><td>4.0</td><td>11.0</td></tr><tr><td>&quot;25%&quot;</td><td>263.0</td><td>48.0</td><td>265.0</td></tr><tr><td>&quot;50%&quot;</td><td>499.0</td><td>89.0</td><td>501.0</td></tr><tr><td>&quot;75%&quot;</td><td>1178.0</td><td>206.0</td><td>1179.0</td></tr><tr><td>&quot;max&quot;</td><td>15584.0</td><td>2687.0</td><td>15653.0</td></tr></tbody></table></div>"
      ],
      "text/plain": [
       "shape: (9, 4)\n",
       "┌────────────┬─────────────┬────────────┬─────────────┐\n",
       "│ statistic  ┆ text_chars  ┆ text_words ┆ text_bytes  │\n",
       "│ ---        ┆ ---         ┆ ---        ┆ ---         │\n",
       "│ str        ┆ f64         ┆ f64        ┆ f64         │\n",
       "╞════════════╪═════════════╪════════════╪═════════════╡\n",
       "│ count      ┆ 2081.0      ┆ 2081.0     ┆ 2081.0      │\n",
       "│ null_count ┆ 0.0         ┆ 0.0        ┆ 0.0         │\n",
       "│ mean       ┆ 1011.20519  ┆ 178.009611 ┆ 1014.234983 │\n",
       "│ std        ┆ 1296.089787 ┆ 225.549487 ┆ 1298.309312 │\n",
       "│ min        ┆ 11.0        ┆ 4.0        ┆ 11.0        │\n",
       "│ 25%        ┆ 263.0       ┆ 48.0       ┆ 265.0       │\n",
       "│ 50%        ┆ 499.0       ┆ 89.0       ┆ 501.0       │\n",
       "│ 75%        ┆ 1178.0      ┆ 206.0      ┆ 1179.0      │\n",
       "│ max        ┆ 15584.0     ┆ 2687.0     ┆ 15653.0     │\n",
       "└────────────┴─────────────┴────────────┴─────────────┘"
      ]
     },
     "execution_count": 41,
     "metadata": {},
     "output_type": "execute_result"
    }
   ],
   "source": [
    "movies_data_df.select(\n",
    "    pl.col(\"text\").str.len_chars().alias(\"text_chars\"),\n",
    "    pl.col(\"text\").str.split(\" \").list.len().alias(\"text_words\"),\n",
    "    pl.col(\"text\").str.len_bytes().alias(\"text_bytes\")\n",
    ").describe()"
   ]
  },
  {
   "cell_type": "code",
   "execution_count": 42,
   "metadata": {},
   "outputs": [
    {
     "data": {
      "text/plain": [
       "0       1609977\n",
       "1       1609977\n",
       "2       1609977\n",
       "3       1609977\n",
       "4       1609977\n",
       "         ...   \n",
       "2076    1737072\n",
       "2077    1737072\n",
       "2078    1739232\n",
       "2079    1739232\n",
       "2080    1739232\n",
       "Name: release_date, Length: 2081, dtype: int64"
      ]
     },
     "execution_count": 42,
     "metadata": {},
     "output_type": "execute_result"
    }
   ],
   "source": [
    "movies_data_df.to_pandas()[\"release_date\"].astype(\"int64\") // 10**9 "
   ]
  },
  {
   "cell_type": "code",
   "execution_count": 43,
   "metadata": {},
   "outputs": [
    {
     "data": {
      "text/html": [
       "<div><style>\n",
       ".dataframe > thead > tr,\n",
       ".dataframe > tbody > tr {\n",
       "  text-align: right;\n",
       "  white-space: pre-wrap;\n",
       "}\n",
       "</style>\n",
       "<small>shape: (2_081, 11)</small><table border=\"1\" class=\"dataframe\"><thead><tr><th>parse_ts</th><th>TitleId</th><th>SourceYear</th><th>topic</th><th>text</th><th>Title</th><th>Genre</th><th>runtime_min</th><th>Language</th><th>release_date</th><th>release_date_ts</th></tr><tr><td>datetime[μs]</td><td>i64</td><td>str</td><td>str</td><td>str</td><td>str</td><td>str</td><td>f64</td><td>str</td><td>datetime[μs]</td><td>i64</td></tr></thead><tbody><tr><td>2024-10-14 00:00:00</td><td>1</td><td>&quot;2021&quot;</td><td>&quot;General&quot;</td><td>&quot;Pieces of a Woman is a 2020 dr…</td><td>&quot;Pieces of a Woman&quot;</td><td>&quot;Drama&quot;</td><td>126.0</td><td>&quot;English&quot;</td><td>2021-01-07 00:00:00</td><td>1609977</td></tr><tr><td>2024-10-14 00:00:00</td><td>1</td><td>&quot;2021&quot;</td><td>&quot;Plot&quot;</td><td>&quot;Martha and Sean, a young Bosto…</td><td>&quot;Pieces of a Woman&quot;</td><td>&quot;Drama&quot;</td><td>126.0</td><td>&quot;English&quot;</td><td>2021-01-07 00:00:00</td><td>1609977</td></tr><tr><td>2024-10-14 00:00:00</td><td>1</td><td>&quot;2021&quot;</td><td>&quot;Cast&quot;</td><td>&quot;Vanessa Kirby as Martha Weiss …</td><td>&quot;Pieces of a Woman&quot;</td><td>&quot;Drama&quot;</td><td>126.0</td><td>&quot;English&quot;</td><td>2021-01-07 00:00:00</td><td>1609977</td></tr><tr><td>2024-10-14 00:00:00</td><td>1</td><td>&quot;2021&quot;</td><td>&quot;Production-Play&quot;</td><td>&quot;The play Pieces of a Woman was…</td><td>&quot;Pieces of a Woman&quot;</td><td>&quot;Drama&quot;</td><td>126.0</td><td>&quot;English&quot;</td><td>2021-01-07 00:00:00</td><td>1609977</td></tr><tr><td>2024-10-14 00:00:00</td><td>1</td><td>&quot;2021&quot;</td><td>&quot;Production-Development and the…</td><td>&quot;The film Pieces of a Woman was…</td><td>&quot;Pieces of a Woman&quot;</td><td>&quot;Drama&quot;</td><td>126.0</td><td>&quot;English&quot;</td><td>2021-01-07 00:00:00</td><td>1609977</td></tr><tr><td>&hellip;</td><td>&hellip;</td><td>&hellip;</td><td>&hellip;</td><td>&hellip;</td><td>&hellip;</td><td>&hellip;</td><td>&hellip;</td><td>&hellip;</td><td>&hellip;</td><td>&hellip;</td></tr><tr><td>2024-10-14 00:00:00</td><td>127</td><td>&quot;since_2024&quot;</td><td>&quot;Production&quot;</td><td>&quot;In June 2022, it was reported …</td><td>&quot;Back in Action&quot;</td><td>&quot;Action comedy&quot;</td><td>105.0</td><td>&quot;English&quot;</td><td>2025-01-17 00:00:00</td><td>1737072</td></tr><tr><td>2024-10-14 00:00:00</td><td>127</td><td>&quot;since_2024&quot;</td><td>&quot;Release&quot;</td><td>&quot;Back in Action is scheduled to…</td><td>&quot;Back in Action&quot;</td><td>&quot;Action comedy&quot;</td><td>105.0</td><td>&quot;English&quot;</td><td>2025-01-17 00:00:00</td><td>1737072</td></tr><tr><td>2024-10-14 00:00:00</td><td>128</td><td>&quot;since_2024&quot;</td><td>&quot;General&quot;</td><td>&quot;The Witcher: Sirens of the Dee…</td><td>&quot;The Witcher: Sirens of the Dee…</td><td>&quot;Animation&quot;</td><td>105.0</td><td>&quot;English&quot;</td><td>2025-02-11 00:00:00</td><td>1739232</td></tr><tr><td>2024-10-14 00:00:00</td><td>128</td><td>&quot;since_2024&quot;</td><td>&quot;Cast&quot;</td><td>&quot;Doug Cockle as Geralt of Rivia…</td><td>&quot;The Witcher: Sirens of the Dee…</td><td>&quot;Animation&quot;</td><td>105.0</td><td>&quot;English&quot;</td><td>2025-02-11 00:00:00</td><td>1739232</td></tr><tr><td>2024-10-14 00:00:00</td><td>128</td><td>&quot;since_2024&quot;</td><td>&quot;Production&quot;</td><td>&quot;In September 2021 at Tudum: A …</td><td>&quot;The Witcher: Sirens of the Dee…</td><td>&quot;Animation&quot;</td><td>105.0</td><td>&quot;English&quot;</td><td>2025-02-11 00:00:00</td><td>1739232</td></tr></tbody></table></div>"
      ],
      "text/plain": [
       "shape: (2_081, 11)\n",
       "┌────────────┬─────────┬────────────┬───────────┬───┬───────────┬──────────┬───────────┬───────────┐\n",
       "│ parse_ts   ┆ TitleId ┆ SourceYear ┆ topic     ┆ … ┆ runtime_m ┆ Language ┆ release_d ┆ release_d │\n",
       "│ ---        ┆ ---     ┆ ---        ┆ ---       ┆   ┆ in        ┆ ---      ┆ ate       ┆ ate_ts    │\n",
       "│ datetime[μ ┆ i64     ┆ str        ┆ str       ┆   ┆ ---       ┆ str      ┆ ---       ┆ ---       │\n",
       "│ s]         ┆         ┆            ┆           ┆   ┆ f64       ┆          ┆ datetime[ ┆ i64       │\n",
       "│            ┆         ┆            ┆           ┆   ┆           ┆          ┆ μs]       ┆           │\n",
       "╞════════════╪═════════╪════════════╪═══════════╪═══╪═══════════╪══════════╪═══════════╪═══════════╡\n",
       "│ 2024-10-14 ┆ 1       ┆ 2021       ┆ General   ┆ … ┆ 126.0     ┆ English  ┆ 2021-01-0 ┆ 1609977   │\n",
       "│ 00:00:00   ┆         ┆            ┆           ┆   ┆           ┆          ┆ 7         ┆           │\n",
       "│            ┆         ┆            ┆           ┆   ┆           ┆          ┆ 00:00:00  ┆           │\n",
       "│ 2024-10-14 ┆ 1       ┆ 2021       ┆ Plot      ┆ … ┆ 126.0     ┆ English  ┆ 2021-01-0 ┆ 1609977   │\n",
       "│ 00:00:00   ┆         ┆            ┆           ┆   ┆           ┆          ┆ 7         ┆           │\n",
       "│            ┆         ┆            ┆           ┆   ┆           ┆          ┆ 00:00:00  ┆           │\n",
       "│ 2024-10-14 ┆ 1       ┆ 2021       ┆ Cast      ┆ … ┆ 126.0     ┆ English  ┆ 2021-01-0 ┆ 1609977   │\n",
       "│ 00:00:00   ┆         ┆            ┆           ┆   ┆           ┆          ┆ 7         ┆           │\n",
       "│            ┆         ┆            ┆           ┆   ┆           ┆          ┆ 00:00:00  ┆           │\n",
       "│ 2024-10-14 ┆ 1       ┆ 2021       ┆ Productio ┆ … ┆ 126.0     ┆ English  ┆ 2021-01-0 ┆ 1609977   │\n",
       "│ 00:00:00   ┆         ┆            ┆ n-Play    ┆   ┆           ┆          ┆ 7         ┆           │\n",
       "│            ┆         ┆            ┆           ┆   ┆           ┆          ┆ 00:00:00  ┆           │\n",
       "│ 2024-10-14 ┆ 1       ┆ 2021       ┆ Productio ┆ … ┆ 126.0     ┆ English  ┆ 2021-01-0 ┆ 1609977   │\n",
       "│ 00:00:00   ┆         ┆            ┆ n-Develop ┆   ┆           ┆          ┆ 7         ┆           │\n",
       "│            ┆         ┆            ┆ ment and  ┆   ┆           ┆          ┆ 00:00:00  ┆           │\n",
       "│            ┆         ┆            ┆ the…      ┆   ┆           ┆          ┆           ┆           │\n",
       "│ …          ┆ …       ┆ …          ┆ …         ┆ … ┆ …         ┆ …        ┆ …         ┆ …         │\n",
       "│ 2024-10-14 ┆ 127     ┆ since_2024 ┆ Productio ┆ … ┆ 105.0     ┆ English  ┆ 2025-01-1 ┆ 1737072   │\n",
       "│ 00:00:00   ┆         ┆            ┆ n         ┆   ┆           ┆          ┆ 7         ┆           │\n",
       "│            ┆         ┆            ┆           ┆   ┆           ┆          ┆ 00:00:00  ┆           │\n",
       "│ 2024-10-14 ┆ 127     ┆ since_2024 ┆ Release   ┆ … ┆ 105.0     ┆ English  ┆ 2025-01-1 ┆ 1737072   │\n",
       "│ 00:00:00   ┆         ┆            ┆           ┆   ┆           ┆          ┆ 7         ┆           │\n",
       "│            ┆         ┆            ┆           ┆   ┆           ┆          ┆ 00:00:00  ┆           │\n",
       "│ 2024-10-14 ┆ 128     ┆ since_2024 ┆ General   ┆ … ┆ 105.0     ┆ English  ┆ 2025-02-1 ┆ 1739232   │\n",
       "│ 00:00:00   ┆         ┆            ┆           ┆   ┆           ┆          ┆ 1         ┆           │\n",
       "│            ┆         ┆            ┆           ┆   ┆           ┆          ┆ 00:00:00  ┆           │\n",
       "│ 2024-10-14 ┆ 128     ┆ since_2024 ┆ Cast      ┆ … ┆ 105.0     ┆ English  ┆ 2025-02-1 ┆ 1739232   │\n",
       "│ 00:00:00   ┆         ┆            ┆           ┆   ┆           ┆          ┆ 1         ┆           │\n",
       "│            ┆         ┆            ┆           ┆   ┆           ┆          ┆ 00:00:00  ┆           │\n",
       "│ 2024-10-14 ┆ 128     ┆ since_2024 ┆ Productio ┆ … ┆ 105.0     ┆ English  ┆ 2025-02-1 ┆ 1739232   │\n",
       "│ 00:00:00   ┆         ┆            ┆ n         ┆   ┆           ┆          ┆ 1         ┆           │\n",
       "│            ┆         ┆            ┆           ┆   ┆           ┆          ┆ 00:00:00  ┆           │\n",
       "└────────────┴─────────┴────────────┴───────────┴───┴───────────┴──────────┴───────────┴───────────┘"
      ]
     },
     "execution_count": 43,
     "metadata": {},
     "output_type": "execute_result"
    }
   ],
   "source": [
    "movies_data_df.with_columns(\n",
    "    (pl.col(\"release_date\").cast(pl.Int64) // 10**9).alias(\"release_date_ts\"),\n",
    ")"
   ]
  },
  {
   "cell_type": "code",
   "execution_count": 44,
   "metadata": {},
   "outputs": [
    {
     "data": {
      "text/html": [
       "<div><style>\n",
       ".dataframe > thead > tr,\n",
       ".dataframe > tbody > tr {\n",
       "  text-align: right;\n",
       "  white-space: pre-wrap;\n",
       "}\n",
       "</style>\n",
       "<small>shape: (1, 10)</small><table border=\"1\" class=\"dataframe\"><thead><tr><th>parse_ts</th><th>TitleId</th><th>SourceYear</th><th>topic</th><th>text</th><th>Title</th><th>Genre</th><th>runtime_min</th><th>Language</th><th>release_date</th></tr><tr><td>u32</td><td>u32</td><td>u32</td><td>u32</td><td>u32</td><td>u32</td><td>u32</td><td>u32</td><td>u32</td><td>u32</td></tr></thead><tbody><tr><td>0</td><td>0</td><td>0</td><td>0</td><td>0</td><td>0</td><td>0</td><td>0</td><td>0</td><td>0</td></tr></tbody></table></div>"
      ],
      "text/plain": [
       "shape: (1, 10)\n",
       "┌──────────┬─────────┬────────────┬───────┬───┬───────┬─────────────┬──────────┬──────────────┐\n",
       "│ parse_ts ┆ TitleId ┆ SourceYear ┆ topic ┆ … ┆ Genre ┆ runtime_min ┆ Language ┆ release_date │\n",
       "│ ---      ┆ ---     ┆ ---        ┆ ---   ┆   ┆ ---   ┆ ---         ┆ ---      ┆ ---          │\n",
       "│ u32      ┆ u32     ┆ u32        ┆ u32   ┆   ┆ u32   ┆ u32         ┆ u32      ┆ u32          │\n",
       "╞══════════╪═════════╪════════════╪═══════╪═══╪═══════╪═════════════╪══════════╪══════════════╡\n",
       "│ 0        ┆ 0       ┆ 0          ┆ 0     ┆ … ┆ 0     ┆ 0           ┆ 0        ┆ 0            │\n",
       "└──────────┴─────────┴────────────┴───────┴───┴───────┴─────────────┴──────────┴──────────────┘"
      ]
     },
     "execution_count": 44,
     "metadata": {},
     "output_type": "execute_result"
    }
   ],
   "source": [
    "movies_data_df.null_count()"
   ]
  },
  {
   "cell_type": "code",
   "execution_count": 58,
   "metadata": {},
   "outputs": [
    {
     "data": {
      "text/plain": [
       "1677110400.0"
      ]
     },
     "execution_count": 58,
     "metadata": {},
     "output_type": "execute_result"
    }
   ],
   "source": [
    "dlt = pd.Series([pd.Timestamp(2023, 2, 23)]).astype(\"int64\")[0] // 1e9\n",
    "dlt\n",
    "\n",
    "# pd.Timestamp(1970, 1, 1) + pd.Timedelta(seconds=dlt)\n",
    "dlt"
   ]
  },
  {
   "cell_type": "code",
   "execution_count": 69,
   "metadata": {},
   "outputs": [
    {
     "data": {
      "text/html": [
       "<div><style>\n",
       ".dataframe > thead > tr,\n",
       ".dataframe > tbody > tr {\n",
       "  text-align: right;\n",
       "  white-space: pre-wrap;\n",
       "}\n",
       "</style>\n",
       "<small>shape: (3,)</small><table border=\"1\" class=\"dataframe\"><thead><tr><th>a</th></tr><tr><td>str</td></tr></thead><tbody><tr><td>&quot;1&quot;</td></tr><tr><td>&quot;2&quot;</td></tr><tr><td>&quot;3&quot;</td></tr></tbody></table></div>"
      ],
      "text/plain": [
       "shape: (3,)\n",
       "Series: 'a' [str]\n",
       "[\n",
       "\t\"1\"\n",
       "\t\"2\"\n",
       "\t\"3\"\n",
       "]"
      ]
     },
     "execution_count": 69,
     "metadata": {},
     "output_type": "execute_result"
    }
   ],
   "source": [
    "pl.Series(\"a\", [1, 2, 3]).cast(pl.String)"
   ]
  },
  {
   "cell_type": "code",
   "execution_count": 95,
   "metadata": {},
   "outputs": [
    {
     "data": {
      "text/plain": [
       "1677110400.0"
      ]
     },
     "execution_count": 95,
     "metadata": {},
     "output_type": "execute_result"
    }
   ],
   "source": [
    "import datetime as dt\n",
    "\n",
    "pl.Series(\"s\", [dt.datetime(2023, 2, 23), dt.datetime(2023, 2, 24)]).dt.timestamp(\"us\")[0] // 1e6"
   ]
  },
  {
   "cell_type": "code",
   "execution_count": 99,
   "metadata": {},
   "outputs": [
    {
     "data": {
      "text/plain": [
       "1677110400.0"
      ]
     },
     "execution_count": 99,
     "metadata": {},
     "output_type": "execute_result"
    }
   ],
   "source": [
    "pd.Series([dt.datetime(2023, 2, 23), dt.datetime(2023, 2, 24)]).astype(\"int64\")[0] // 1e9"
   ]
  },
  {
   "cell_type": "code",
   "execution_count": 102,
   "metadata": {},
   "outputs": [
    {
     "data": {
      "text/plain": [
       "1677110400.0"
      ]
     },
     "execution_count": 102,
     "metadata": {},
     "output_type": "execute_result"
    }
   ],
   "source": [
    "import pytz\n",
    "\n",
    "dt.datetime(2023, 2, 23, tzinfo=pytz.UTC).timestamp()"
   ]
  },
  {
   "cell_type": "code",
   "execution_count": 101,
   "metadata": {},
   "outputs": [
    {
     "data": {
      "text/plain": [
       "1677110400.0"
      ]
     },
     "execution_count": 101,
     "metadata": {},
     "output_type": "execute_result"
    }
   ],
   "source": [
    "pd.Timestamp(2023, 2, 23).timestamp()"
   ]
  },
  {
   "cell_type": "code",
   "execution_count": 45,
   "metadata": {},
   "outputs": [
    {
     "data": {
      "text/plain": [
       "Timestamp('2023-02-23 00:00:00')"
      ]
     },
     "execution_count": 45,
     "metadata": {},
     "output_type": "execute_result"
    }
   ],
   "source": [
    "dlt = 1677110400.0\n",
    "\n",
    "pd.Timestamp(1970, 1, 1) + pd.Timedelta(seconds=dlt)\n"
   ]
  },
  {
   "cell_type": "markdown",
   "metadata": {},
   "source": []
  }
 ],
 "metadata": {
  "kernelspec": {
   "display_name": ".venv",
   "language": "python",
   "name": "python3"
  },
  "language_info": {
   "codemirror_mode": {
    "name": "ipython",
    "version": 3
   },
   "file_extension": ".py",
   "mimetype": "text/x-python",
   "name": "python",
   "nbconvert_exporter": "python",
   "pygments_lexer": "ipython3",
   "version": "3.10.13"
  }
 },
 "nbformat": 4,
 "nbformat_minor": 2
}
