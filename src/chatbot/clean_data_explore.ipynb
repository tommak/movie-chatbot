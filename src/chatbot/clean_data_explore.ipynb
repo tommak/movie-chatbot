{
 "cells": [
  {
   "cell_type": "code",
   "execution_count": 1,
   "metadata": {},
   "outputs": [],
   "source": [
    "import sys\n",
    "sys.path.append(\"/Users/tamara/Documents/Projects/movie-chatbot\")"
   ]
  },
  {
   "cell_type": "code",
   "execution_count": 2,
   "metadata": {},
   "outputs": [],
   "source": [
    "import pandas as pd\n",
    "from pathlib import Path"
   ]
  },
  {
   "cell_type": "markdown",
   "metadata": {},
   "source": [
    "# Movies Titles"
   ]
  },
  {
   "cell_type": "code",
   "execution_count": 3,
   "metadata": {},
   "outputs": [],
   "source": [
    "import polars as pl\n",
    "\n",
    "path = Path(\"/Users/tamara/Documents/Projects/movie-chatbot/data/raw\")\n",
    "\n",
    "movies = pl.read_csv(path / \"movies_context_*.csv\").drop(\"\")"
   ]
  },
  {
   "cell_type": "code",
   "execution_count": 4,
   "metadata": {},
   "outputs": [
    {
     "data": {
      "text/plain": [
       "['Title',\n",
       " 'Release date',\n",
       " 'Genre',\n",
       " 'Runtime',\n",
       " 'Language',\n",
       " 'Link',\n",
       " 'parse_ts',\n",
       " 'TitleId',\n",
       " 'SourceYear']"
      ]
     },
     "execution_count": 4,
     "metadata": {},
     "output_type": "execute_result"
    }
   ],
   "source": [
    "movies.columns"
   ]
  },
  {
   "cell_type": "code",
   "execution_count": 5,
   "metadata": {},
   "outputs": [
    {
     "data": {
      "text/plain": [
       "(610, 9)"
      ]
     },
     "execution_count": 5,
     "metadata": {},
     "output_type": "execute_result"
    }
   ],
   "source": [
    "movies.shape"
   ]
  },
  {
   "cell_type": "code",
   "execution_count": 6,
   "metadata": {},
   "outputs": [],
   "source": [
    "def fix_shifted_data(movies: pl.DataFrame) -> pl.DataFrame:\n",
    "    is_shifted = pl.col(\"Release date\").str.replace(r'(\\[\\d+\\])+', '').str.strip_chars().str.strptime(dtype=pl.Datetime, format='%B %d, %Y', strict=False).is_null()\n",
    "    shifted_data = movies.filter(is_shifted).to_pandas()\n",
    "    not_shifted_data = movies.filter(~is_shifted).to_pandas()\n",
    "\n",
    "    shifted_data.iloc[:, 2:-3] = shifted_data.iloc[:, 1:-4]\n",
    "    shifted_data.iloc[:, 1] = None\n",
    "\n",
    "    return pl.from_pandas(pd.concat([\n",
    "        shifted_data,\n",
    "        not_shifted_data\n",
    "    ]))\n"
   ]
  },
  {
   "cell_type": "code",
   "execution_count": 7,
   "metadata": {
    "vscode": {
     "languageId": "javascript"
    }
   },
   "outputs": [
    {
     "ename": "SyntaxError",
     "evalue": "invalid syntax (220988126.py, line 6)",
     "output_type": "error",
     "traceback": [
      "\u001b[0;36m  Cell \u001b[0;32mIn[7], line 6\u001b[0;36m\u001b[0m\n\u001b[0;31m    // pl.col(\"Title\").alias(\"title\"),\u001b[0m\n\u001b[0m    ^\u001b[0m\n\u001b[0;31mSyntaxError\u001b[0m\u001b[0;31m:\u001b[0m invalid syntax\n"
     ]
    }
   ],
   "source": [
    "runtime_pattern = \"(?:(\\d+)\\s?h)?(?:\\s?(\\d+)\\s?min)?\"\n",
    "\n",
    "fix_shifted_data(\n",
    "    movies.filter(pl.col(\"Title\") != \"Awaiting release\")\n",
    ").with_columns(\n",
    "    // pl.col(\"Title\").alias(\"title\"),\n",
    "    // pl.col(\"Title\").alias(\"title\"),\n",
    "    \n",
    "    pl.col(\"Release date\").str.replace(r'(\\[\\d+\\])+', '').str.strip_chars().str.strptime(dtype=pl.Datetime, format='%B %d, %Y', strict=False).alias(\"release_date\"),\n",
    "    pl.col(\"parse_ts\").str.to_datetime().alias(\"parse_ts\"),\n",
    "    pl.col(\"SourceYear\").str.replace(\"since_\", \"\").cast(pl.Int32).alias(\"year\"),\n",
    "    pl.col('Title').str.replace(r'(\\[\\d+\\])+', '').str.strip_chars(),\n",
    "    (pl.col(\"Runtime\").str.extract_groups(runtime_pattern).struct[\"1\"].cast(pl.Int32) * 60 +\n",
    "    pl.col(\"Runtime\").str.extract_groups(runtime_pattern).struct[\"2\"].cast(pl.Int32).fill_null(0)).alias(\"runtime_min\"),\n",
    ").sort([\"year\", \"TitleId\"]).with_columns(\n",
    "    pl.col(\"release_date\").forward_fill()\n",
    ").with_columns(\n",
    "    (pl.col('Title') + pl.lit(\" is a \") + pl.col('Genre') + pl.lit(\" Netflix movie in \") + pl.col('Language') +\n",
    "      + pl.lit(\" language that was released on \") + pl.col('release_date').dt.strftime(\"%Y-%m-%d\")).alias('text'),\n",
    ") \n",
    "# .select([\"Title\", \"Genre\", \"Language\", \"SourceYear\", \"TitleId\", \"year\", \"release_date\", \"runtime_min\", \"text\", \"parse_ts\"])"
   ]
  },
  {
   "cell_type": "code",
   "execution_count": 10,
   "metadata": {},
   "outputs": [
    {
     "ename": "NameError",
     "evalue": "name 'movies_clean' is not defined",
     "output_type": "error",
     "traceback": [
      "\u001b[0;31m---------------------------------------------------------------------------\u001b[0m",
      "\u001b[0;31mNameError\u001b[0m                                 Traceback (most recent call last)",
      "Cell \u001b[0;32mIn[10], line 1\u001b[0m\n\u001b[0;32m----> 1\u001b[0m \u001b[43mmovies_clean\u001b[49m\n",
      "\u001b[0;31mNameError\u001b[0m: name 'movies_clean' is not defined"
     ]
    }
   ],
   "source": [
    "movies_clean"
   ]
  },
  {
   "cell_type": "code",
   "execution_count": 294,
   "metadata": {},
   "outputs": [
    {
     "data": {
      "text/html": [
       "<div><style>\n",
       ".dataframe > thead > tr,\n",
       ".dataframe > tbody > tr {\n",
       "  text-align: right;\n",
       "  white-space: pre-wrap;\n",
       "}\n",
       "</style>\n",
       "<small>shape: (1, 12)</small><table border=\"1\" class=\"dataframe\"><thead><tr><th>Title</th><th>Release date</th><th>Genre</th><th>Runtime</th><th>Language</th><th>Link</th><th>parse_ts</th><th>TitleId</th><th>SourceYear</th><th>release_date</th><th>year</th><th>text</th></tr><tr><td>u32</td><td>u32</td><td>u32</td><td>u32</td><td>u32</td><td>u32</td><td>u32</td><td>u32</td><td>u32</td><td>u32</td><td>u32</td><td>u32</td></tr></thead><tbody><tr><td>0</td><td>92</td><td>0</td><td>0</td><td>0</td><td>155</td><td>0</td><td>0</td><td>0</td><td>0</td><td>0</td><td>0</td></tr></tbody></table></div>"
      ],
      "text/plain": [
       "shape: (1, 12)\n",
       "┌───────┬──────────────┬───────┬─────────┬───┬────────────┬──────────────┬──────┬──────┐\n",
       "│ Title ┆ Release date ┆ Genre ┆ Runtime ┆ … ┆ SourceYear ┆ release_date ┆ year ┆ text │\n",
       "│ ---   ┆ ---          ┆ ---   ┆ ---     ┆   ┆ ---        ┆ ---          ┆ ---  ┆ ---  │\n",
       "│ u32   ┆ u32          ┆ u32   ┆ u32     ┆   ┆ u32        ┆ u32          ┆ u32  ┆ u32  │\n",
       "╞═══════╪══════════════╪═══════╪═════════╪═══╪════════════╪══════════════╪══════╪══════╡\n",
       "│ 0     ┆ 92           ┆ 0     ┆ 0       ┆ … ┆ 0          ┆ 0            ┆ 0    ┆ 0    │\n",
       "└───────┴──────────────┴───────┴─────────┴───┴────────────┴──────────────┴──────┴──────┘"
      ]
     },
     "execution_count": 294,
     "metadata": {},
     "output_type": "execute_result"
    }
   ],
   "source": [
    "movies_clean.null_count()"
   ]
  },
  {
   "cell_type": "code",
   "execution_count": 295,
   "metadata": {},
   "outputs": [
    {
     "data": {
      "text/html": [
       "<div><style>\n",
       ".dataframe > thead > tr,\n",
       ".dataframe > tbody > tr {\n",
       "  text-align: right;\n",
       "  white-space: pre-wrap;\n",
       "}\n",
       "</style>\n",
       "<small>shape: (1, 12)</small><table border=\"1\" class=\"dataframe\"><thead><tr><th>Title</th><th>Release date</th><th>Genre</th><th>Runtime</th><th>Language</th><th>Link</th><th>parse_ts</th><th>TitleId</th><th>SourceYear</th><th>release_date</th><th>year</th><th>text</th></tr><tr><td>str</td><td>str</td><td>str</td><td>str</td><td>str</td><td>str</td><td>datetime[μs]</td><td>i64</td><td>str</td><td>datetime[μs]</td><td>i32</td><td>str</td></tr></thead><tbody><tr><td>&quot;The Platform 2&quot;</td><td>null</td><td>&quot;Science fiction&quot;</td><td>&quot;1 h 40 min&quot;</td><td>&quot;Spanish&quot;</td><td>&quot;/wiki/The_Platform_2&quot;</td><td>2024-10-14 00:00:00</td><td>99</td><td>&quot;since_2024&quot;</td><td>2024-10-04 00:00:00</td><td>2024</td><td>&quot;The Platform 2 is a Science fi…</td></tr></tbody></table></div>"
      ],
      "text/plain": [
       "shape: (1, 12)\n",
       "┌────────────┬────────────┬────────────┬────────────┬───┬───────────┬───────────┬──────┬───────────┐\n",
       "│ Title      ┆ Release    ┆ Genre      ┆ Runtime    ┆ … ┆ SourceYea ┆ release_d ┆ year ┆ text      │\n",
       "│ ---        ┆ date       ┆ ---        ┆ ---        ┆   ┆ r         ┆ ate       ┆ ---  ┆ ---       │\n",
       "│ str        ┆ ---        ┆ str        ┆ str        ┆   ┆ ---       ┆ ---       ┆ i32  ┆ str       │\n",
       "│            ┆ str        ┆            ┆            ┆   ┆ str       ┆ datetime[ ┆      ┆           │\n",
       "│            ┆            ┆            ┆            ┆   ┆           ┆ μs]       ┆      ┆           │\n",
       "╞════════════╪════════════╪════════════╪════════════╪═══╪═══════════╪═══════════╪══════╪═══════════╡\n",
       "│ The        ┆ null       ┆ Science    ┆ 1 h 40 min ┆ … ┆ since_202 ┆ 2024-10-0 ┆ 2024 ┆ The       │\n",
       "│ Platform 2 ┆            ┆ fiction    ┆            ┆   ┆ 4         ┆ 4         ┆      ┆ Platform  │\n",
       "│            ┆            ┆            ┆            ┆   ┆           ┆ 00:00:00  ┆      ┆ 2 is a    │\n",
       "│            ┆            ┆            ┆            ┆   ┆           ┆           ┆      ┆ Science   │\n",
       "│            ┆            ┆            ┆            ┆   ┆           ┆           ┆      ┆ fi…       │\n",
       "└────────────┴────────────┴────────────┴────────────┴───┴───────────┴───────────┴──────┴───────────┘"
      ]
     },
     "execution_count": 295,
     "metadata": {},
     "output_type": "execute_result"
    }
   ],
   "source": [
    "movies_clean.filter(pl.col(\"Title\") == \"The Platform 2\")"
   ]
  },
  {
   "cell_type": "code",
   "execution_count": 244,
   "metadata": {},
   "outputs": [
    {
     "data": {
      "text/html": [
       "<div><style>\n",
       ".dataframe > thead > tr,\n",
       ".dataframe > tbody > tr {\n",
       "  text-align: right;\n",
       "  white-space: pre-wrap;\n",
       "}\n",
       "</style>\n",
       "<small>shape: (1,)</small><table border=\"1\" class=\"dataframe\"><thead><tr><th>Runtime</th></tr><tr><td>str</td></tr></thead><tbody><tr><td>&quot;TBA&quot;</td></tr></tbody></table></div>"
      ],
      "text/plain": [
       "shape: (1,)\n",
       "Series: 'Runtime' [str]\n",
       "[\n",
       "\t\"TBA\"\n",
       "]"
      ]
     },
     "execution_count": 244,
     "metadata": {},
     "output_type": "execute_result"
    }
   ],
   "source": [
    "movies_clean.filter(pl.col(\"rutime_min\").is_null())[\"Runtime\"].unique()"
   ]
  },
  {
   "cell_type": "markdown",
   "metadata": {},
   "source": [
    "# Movies Data"
   ]
  },
  {
   "cell_type": "code",
   "execution_count": 245,
   "metadata": {},
   "outputs": [],
   "source": [
    "import json \n",
    "\n",
    "with open(path / \"movies_data_2021.json\", \"r\") as f:\n",
    "    movies_data = json.load(f)"
   ]
  },
  {
   "cell_type": "code",
   "execution_count": 254,
   "metadata": {},
   "outputs": [],
   "source": [
    "import json \n",
    "\n",
    "movies_data_l = []\n",
    "meta_cols = [\"TitleId\", \"SourceYear\", \"Title\"]\n",
    "\n",
    "years = [\"2021\", \"2022\", \"2023\", \"since_2024\"]\n",
    "for year in years:\n",
    "    with open(path / f\"movies_data_{year}.json\", \"r\") as f:\n",
    "        movies_data = json.load(f)\n",
    "\n",
    "    for movie_info in movies_data:\n",
    "        for topic, topic_text in movie_info.items():\n",
    "            if topic not in meta_cols:\n",
    "                movies_data_l.append({\n",
    "                    \"TitleId\": movie_info[\"TitleId\"],\n",
    "                    \"SourceYear\": movie_info[\"SourceYear\"],\n",
    "                    \"topic\": topic,\n",
    "                    \"text\": topic_text\n",
    "                })\n",
    "\n",
    "\n",
    "movies_clean_cols = [\"TitleId\", \"SourceYear\", \"Title\", \"Genre\", \"runtime_min\", \"Language\", \"release_date\"]\n",
    "movies_data_df = pl.DataFrame(movies_data_l).join(movies_clean.select(movies_clean_cols), on=[\"TitleId\", \"SourceYear\"], how=\"left\")\n",
    "            "
   ]
  },
  {
   "cell_type": "code",
   "execution_count": 255,
   "metadata": {},
   "outputs": [
    {
     "data": {
      "text/html": [
       "<div><style>\n",
       ".dataframe > thead > tr,\n",
       ".dataframe > tbody > tr {\n",
       "  text-align: right;\n",
       "  white-space: pre-wrap;\n",
       "}\n",
       "</style>\n",
       "<small>shape: (2_081, 9)</small><table border=\"1\" class=\"dataframe\"><thead><tr><th>TitleId</th><th>SourceYear</th><th>topic</th><th>text</th><th>Title</th><th>Genre</th><th>runtime_min</th><th>Language</th><th>release_date</th></tr><tr><td>i64</td><td>str</td><td>str</td><td>str</td><td>str</td><td>str</td><td>i32</td><td>str</td><td>datetime[μs]</td></tr></thead><tbody><tr><td>1</td><td>&quot;2021&quot;</td><td>&quot;General&quot;</td><td>&quot;Pieces of a Woman is a 2020 dr…</td><td>&quot;Pieces of a Woman&quot;</td><td>&quot;Drama&quot;</td><td>126</td><td>&quot;English&quot;</td><td>2021-01-07 00:00:00</td></tr><tr><td>1</td><td>&quot;2021&quot;</td><td>&quot;Plot&quot;</td><td>&quot;Martha and Sean, a young Bosto…</td><td>&quot;Pieces of a Woman&quot;</td><td>&quot;Drama&quot;</td><td>126</td><td>&quot;English&quot;</td><td>2021-01-07 00:00:00</td></tr><tr><td>1</td><td>&quot;2021&quot;</td><td>&quot;Cast&quot;</td><td>&quot;Vanessa Kirby as Martha Weiss …</td><td>&quot;Pieces of a Woman&quot;</td><td>&quot;Drama&quot;</td><td>126</td><td>&quot;English&quot;</td><td>2021-01-07 00:00:00</td></tr><tr><td>1</td><td>&quot;2021&quot;</td><td>&quot;Production-Play&quot;</td><td>&quot;The play Pieces of a Woman was…</td><td>&quot;Pieces of a Woman&quot;</td><td>&quot;Drama&quot;</td><td>126</td><td>&quot;English&quot;</td><td>2021-01-07 00:00:00</td></tr><tr><td>1</td><td>&quot;2021&quot;</td><td>&quot;Production-Development and the…</td><td>&quot;The film Pieces of a Woman was…</td><td>&quot;Pieces of a Woman&quot;</td><td>&quot;Drama&quot;</td><td>126</td><td>&quot;English&quot;</td><td>2021-01-07 00:00:00</td></tr><tr><td>&hellip;</td><td>&hellip;</td><td>&hellip;</td><td>&hellip;</td><td>&hellip;</td><td>&hellip;</td><td>&hellip;</td><td>&hellip;</td><td>&hellip;</td></tr><tr><td>127</td><td>&quot;since_2024&quot;</td><td>&quot;Production&quot;</td><td>&quot;In June 2022, it was reported …</td><td>&quot;Back in Action&quot;</td><td>&quot;Action comedy&quot;</td><td>null</td><td>&quot;English&quot;</td><td>2025-01-17 00:00:00</td></tr><tr><td>127</td><td>&quot;since_2024&quot;</td><td>&quot;Release&quot;</td><td>&quot;Back in Action is scheduled to…</td><td>&quot;Back in Action&quot;</td><td>&quot;Action comedy&quot;</td><td>null</td><td>&quot;English&quot;</td><td>2025-01-17 00:00:00</td></tr><tr><td>128</td><td>&quot;since_2024&quot;</td><td>&quot;General&quot;</td><td>&quot;The Witcher: Sirens of the Dee…</td><td>&quot;The Witcher: Sirens of the Dee…</td><td>&quot;Animation&quot;</td><td>null</td><td>&quot;English&quot;</td><td>2025-02-11 00:00:00</td></tr><tr><td>128</td><td>&quot;since_2024&quot;</td><td>&quot;Cast&quot;</td><td>&quot;Doug Cockle as Geralt of Rivia…</td><td>&quot;The Witcher: Sirens of the Dee…</td><td>&quot;Animation&quot;</td><td>null</td><td>&quot;English&quot;</td><td>2025-02-11 00:00:00</td></tr><tr><td>128</td><td>&quot;since_2024&quot;</td><td>&quot;Production&quot;</td><td>&quot;In September 2021 at Tudum: A …</td><td>&quot;The Witcher: Sirens of the Dee…</td><td>&quot;Animation&quot;</td><td>null</td><td>&quot;English&quot;</td><td>2025-02-11 00:00:00</td></tr></tbody></table></div>"
      ],
      "text/plain": [
       "shape: (2_081, 9)\n",
       "┌─────────┬────────────┬────────────┬───────────┬───┬───────────┬───────────┬──────────┬───────────┐\n",
       "│ TitleId ┆ SourceYear ┆ topic      ┆ text      ┆ … ┆ Genre     ┆ runtime_m ┆ Language ┆ release_d │\n",
       "│ ---     ┆ ---        ┆ ---        ┆ ---       ┆   ┆ ---       ┆ in        ┆ ---      ┆ ate       │\n",
       "│ i64     ┆ str        ┆ str        ┆ str       ┆   ┆ str       ┆ ---       ┆ str      ┆ ---       │\n",
       "│         ┆            ┆            ┆           ┆   ┆           ┆ i32       ┆          ┆ datetime[ │\n",
       "│         ┆            ┆            ┆           ┆   ┆           ┆           ┆          ┆ μs]       │\n",
       "╞═════════╪════════════╪════════════╪═══════════╪═══╪═══════════╪═══════════╪══════════╪═══════════╡\n",
       "│ 1       ┆ 2021       ┆ General    ┆ Pieces of ┆ … ┆ Drama     ┆ 126       ┆ English  ┆ 2021-01-0 │\n",
       "│         ┆            ┆            ┆ a Woman   ┆   ┆           ┆           ┆          ┆ 7         │\n",
       "│         ┆            ┆            ┆ is a 2020 ┆   ┆           ┆           ┆          ┆ 00:00:00  │\n",
       "│         ┆            ┆            ┆ dr…       ┆   ┆           ┆           ┆          ┆           │\n",
       "│ 1       ┆ 2021       ┆ Plot       ┆ Martha    ┆ … ┆ Drama     ┆ 126       ┆ English  ┆ 2021-01-0 │\n",
       "│         ┆            ┆            ┆ and Sean, ┆   ┆           ┆           ┆          ┆ 7         │\n",
       "│         ┆            ┆            ┆ a young   ┆   ┆           ┆           ┆          ┆ 00:00:00  │\n",
       "│         ┆            ┆            ┆ Bosto…    ┆   ┆           ┆           ┆          ┆           │\n",
       "│ 1       ┆ 2021       ┆ Cast       ┆ Vanessa   ┆ … ┆ Drama     ┆ 126       ┆ English  ┆ 2021-01-0 │\n",
       "│         ┆            ┆            ┆ Kirby as  ┆   ┆           ┆           ┆          ┆ 7         │\n",
       "│         ┆            ┆            ┆ Martha    ┆   ┆           ┆           ┆          ┆ 00:00:00  │\n",
       "│         ┆            ┆            ┆ Weiss …   ┆   ┆           ┆           ┆          ┆           │\n",
       "│ 1       ┆ 2021       ┆ Production ┆ The play  ┆ … ┆ Drama     ┆ 126       ┆ English  ┆ 2021-01-0 │\n",
       "│         ┆            ┆ -Play      ┆ Pieces of ┆   ┆           ┆           ┆          ┆ 7         │\n",
       "│         ┆            ┆            ┆ a Woman   ┆   ┆           ┆           ┆          ┆ 00:00:00  │\n",
       "│         ┆            ┆            ┆ was…      ┆   ┆           ┆           ┆          ┆           │\n",
       "│ 1       ┆ 2021       ┆ Production ┆ The film  ┆ … ┆ Drama     ┆ 126       ┆ English  ┆ 2021-01-0 │\n",
       "│         ┆            ┆ -Developme ┆ Pieces of ┆   ┆           ┆           ┆          ┆ 7         │\n",
       "│         ┆            ┆ nt and     ┆ a Woman   ┆   ┆           ┆           ┆          ┆ 00:00:00  │\n",
       "│         ┆            ┆ the…       ┆ was…      ┆   ┆           ┆           ┆          ┆           │\n",
       "│ …       ┆ …          ┆ …          ┆ …         ┆ … ┆ …         ┆ …         ┆ …        ┆ …         │\n",
       "│ 127     ┆ since_2024 ┆ Production ┆ In June   ┆ … ┆ Action    ┆ null      ┆ English  ┆ 2025-01-1 │\n",
       "│         ┆            ┆            ┆ 2022, it  ┆   ┆ comedy    ┆           ┆          ┆ 7         │\n",
       "│         ┆            ┆            ┆ was       ┆   ┆           ┆           ┆          ┆ 00:00:00  │\n",
       "│         ┆            ┆            ┆ reported  ┆   ┆           ┆           ┆          ┆           │\n",
       "│         ┆            ┆            ┆ …         ┆   ┆           ┆           ┆          ┆           │\n",
       "│ 127     ┆ since_2024 ┆ Release    ┆ Back in   ┆ … ┆ Action    ┆ null      ┆ English  ┆ 2025-01-1 │\n",
       "│         ┆            ┆            ┆ Action is ┆   ┆ comedy    ┆           ┆          ┆ 7         │\n",
       "│         ┆            ┆            ┆ scheduled ┆   ┆           ┆           ┆          ┆ 00:00:00  │\n",
       "│         ┆            ┆            ┆ to…       ┆   ┆           ┆           ┆          ┆           │\n",
       "│ 128     ┆ since_2024 ┆ General    ┆ The       ┆ … ┆ Animation ┆ null      ┆ English  ┆ 2025-02-1 │\n",
       "│         ┆            ┆            ┆ Witcher:  ┆   ┆           ┆           ┆          ┆ 1         │\n",
       "│         ┆            ┆            ┆ Sirens of ┆   ┆           ┆           ┆          ┆ 00:00:00  │\n",
       "│         ┆            ┆            ┆ the Dee…  ┆   ┆           ┆           ┆          ┆           │\n",
       "│ 128     ┆ since_2024 ┆ Cast       ┆ Doug      ┆ … ┆ Animation ┆ null      ┆ English  ┆ 2025-02-1 │\n",
       "│         ┆            ┆            ┆ Cockle as ┆   ┆           ┆           ┆          ┆ 1         │\n",
       "│         ┆            ┆            ┆ Geralt of ┆   ┆           ┆           ┆          ┆ 00:00:00  │\n",
       "│         ┆            ┆            ┆ Rivia…    ┆   ┆           ┆           ┆          ┆           │\n",
       "│ 128     ┆ since_2024 ┆ Production ┆ In        ┆ … ┆ Animation ┆ null      ┆ English  ┆ 2025-02-1 │\n",
       "│         ┆            ┆            ┆ September ┆   ┆           ┆           ┆          ┆ 1         │\n",
       "│         ┆            ┆            ┆ 2021 at   ┆   ┆           ┆           ┆          ┆ 00:00:00  │\n",
       "│         ┆            ┆            ┆ Tudum: A  ┆   ┆           ┆           ┆          ┆           │\n",
       "│         ┆            ┆            ┆ …         ┆   ┆           ┆           ┆          ┆           │\n",
       "└─────────┴────────────┴────────────┴───────────┴───┴───────────┴───────────┴──────────┴───────────┘"
      ]
     },
     "execution_count": 255,
     "metadata": {},
     "output_type": "execute_result"
    }
   ],
   "source": [
    "movies_data_df"
   ]
  },
  {
   "cell_type": "code",
   "execution_count": 270,
   "metadata": {},
   "outputs": [
    {
     "data": {
      "text/html": [
       "<div><style>\n",
       ".dataframe > thead > tr,\n",
       ".dataframe > tbody > tr {\n",
       "  text-align: right;\n",
       "  white-space: pre-wrap;\n",
       "}\n",
       "</style>\n",
       "<small>shape: (9, 4)</small><table border=\"1\" class=\"dataframe\"><thead><tr><th>statistic</th><th>text_chars</th><th>text_words</th><th>text_bytes</th></tr><tr><td>str</td><td>f64</td><td>f64</td><td>f64</td></tr></thead><tbody><tr><td>&quot;count&quot;</td><td>2081.0</td><td>2081.0</td><td>2081.0</td></tr><tr><td>&quot;null_count&quot;</td><td>0.0</td><td>0.0</td><td>0.0</td></tr><tr><td>&quot;mean&quot;</td><td>1010.975012</td><td>177.966362</td><td>1014.003364</td></tr><tr><td>&quot;std&quot;</td><td>1295.960976</td><td>225.523538</td><td>1298.179201</td></tr><tr><td>&quot;min&quot;</td><td>11.0</td><td>4.0</td><td>11.0</td></tr><tr><td>&quot;25%&quot;</td><td>263.0</td><td>48.0</td><td>265.0</td></tr><tr><td>&quot;50%&quot;</td><td>499.0</td><td>89.0</td><td>501.0</td></tr><tr><td>&quot;75%&quot;</td><td>1175.0</td><td>204.0</td><td>1177.0</td></tr><tr><td>&quot;max&quot;</td><td>15584.0</td><td>2687.0</td><td>15653.0</td></tr></tbody></table></div>"
      ],
      "text/plain": [
       "shape: (9, 4)\n",
       "┌────────────┬─────────────┬────────────┬─────────────┐\n",
       "│ statistic  ┆ text_chars  ┆ text_words ┆ text_bytes  │\n",
       "│ ---        ┆ ---         ┆ ---        ┆ ---         │\n",
       "│ str        ┆ f64         ┆ f64        ┆ f64         │\n",
       "╞════════════╪═════════════╪════════════╪═════════════╡\n",
       "│ count      ┆ 2081.0      ┆ 2081.0     ┆ 2081.0      │\n",
       "│ null_count ┆ 0.0         ┆ 0.0        ┆ 0.0         │\n",
       "│ mean       ┆ 1010.975012 ┆ 177.966362 ┆ 1014.003364 │\n",
       "│ std        ┆ 1295.960976 ┆ 225.523538 ┆ 1298.179201 │\n",
       "│ min        ┆ 11.0        ┆ 4.0        ┆ 11.0        │\n",
       "│ 25%        ┆ 263.0       ┆ 48.0       ┆ 265.0       │\n",
       "│ 50%        ┆ 499.0       ┆ 89.0       ┆ 501.0       │\n",
       "│ 75%        ┆ 1175.0      ┆ 204.0      ┆ 1177.0      │\n",
       "│ max        ┆ 15584.0     ┆ 2687.0     ┆ 15653.0     │\n",
       "└────────────┴─────────────┴────────────┴─────────────┘"
      ]
     },
     "execution_count": 270,
     "metadata": {},
     "output_type": "execute_result"
    }
   ],
   "source": [
    "movies_data_df.select(\n",
    "    pl.col(\"text\").str.len_chars().alias(\"text_chars\"),\n",
    "    pl.col(\"text\").str.split(\" \").list.len().alias(\"text_words\"),\n",
    "    pl.col(\"text\").str.len_bytes().alias(\"text_bytes\")\n",
    ").describe()"
   ]
  },
  {
   "cell_type": "code",
   "execution_count": null,
   "metadata": {},
   "outputs": [],
   "source": []
  }
 ],
 "metadata": {
  "kernelspec": {
   "display_name": ".venv",
   "language": "python",
   "name": "python3"
  },
  "language_info": {
   "codemirror_mode": {
    "name": "ipython",
    "version": 3
   },
   "file_extension": ".py",
   "mimetype": "text/x-python",
   "name": "python",
   "nbconvert_exporter": "python",
   "pygments_lexer": "ipython3",
   "version": "3.10.13"
  }
 },
 "nbformat": 4,
 "nbformat_minor": 2
}
